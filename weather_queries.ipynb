{
 "metadata": {
  "name": "",
  "signature": "sha256:5800cfa19d60459dcdc34639edc800c20ecf200f7b1fbf08c6999a6c79cc2b6e"
 },
 "nbformat": 3,
 "nbformat_minor": 0,
 "worksheets": [
  {
   "cells": [
    {
     "cell_type": "heading",
     "level": 2,
     "metadata": {},
     "source": [
      "Using MySQL Weather History Database on Amazon EC2"
     ]
    },
    {
     "cell_type": "markdown",
     "metadata": {},
     "source": [
      "This notebook shows some example queries using the weather history database set up as described in the complementary notebook [weather_mysqlconfig](http://nbviewer.ipython.org/github/bricof/weather_history/blob/master/weather_mysqlconfig.ipynb). The MySQLdb library is used to manage the interaction with the database. See [this blog post](http://briancoffey.ca/blogpost5.html) for more context."
     ]
    },
    {
     "cell_type": "heading",
     "level": 4,
     "metadata": {},
     "source": [
      "Configuration: Libaries, Keys, Convenience Methods"
     ]
    },
    {
     "cell_type": "code",
     "collapsed": false,
     "input": [
      "import pandas as pd\n",
      "import numpy as np\n",
      "import MySQLdb as mdb"
     ],
     "language": "python",
     "metadata": {},
     "outputs": [],
     "prompt_number": 1
    },
    {
     "cell_type": "code",
     "collapsed": false,
     "input": [
      "AWSAccessKeyId, AWSSecretKey = ( line.strip().split('=')[1] for line in open('/Users/brian/rootkey.csv','r') )\n",
      "sshKeyName, instancePass, mysqlPass, myIP = ( line.strip().split('=')[1] for line in open('/Users/brian/passwords.csv','r') )"
     ],
     "language": "python",
     "metadata": {},
     "outputs": [],
     "prompt_number": 2
    },
    {
     "cell_type": "code",
     "collapsed": false,
     "input": [
      "def sqlCall(cmd):\n",
      "    con = mdb.connect( host = 'ec2-54-91-115-227.compute-1.amazonaws.com', \n",
      "                   passwd = mysqlPass, \n",
      "                   user = 'weatherdbuser', \n",
      "                   db='weather' );\n",
      "    cur = con.cursor()\n",
      "    cur.execute(cmd)\n",
      "    field_names = [i[0] for i in cur.description]\n",
      "    output = []\n",
      "    for i in range(cur.rowcount):\n",
      "        output.append(cur.fetchone())\n",
      "    con.close()\n",
      "    df = pd.DataFrame(output)\n",
      "    try:\n",
      "        df.columns = field_names\n",
      "    except:\n",
      "        pass\n",
      "    return df"
     ],
     "language": "python",
     "metadata": {},
     "outputs": [],
     "prompt_number": 3
    },
    {
     "cell_type": "heading",
     "level": 4,
     "metadata": {},
     "source": [
      "Quick Views of the Tables in the Database"
     ]
    },
    {
     "cell_type": "code",
     "collapsed": false,
     "input": [
      "cmd =  \"SELECT * FROM country LIMIT 5\"\n",
      "cmd += \";\"\n",
      "sqlCall(cmd)"
     ],
     "language": "python",
     "metadata": {},
     "outputs": [
      {
       "html": [
        "<div style=\"max-height:1000px;max-width:1500px;overflow:auto;\">\n",
        "<table border=\"1\" class=\"dataframe\">\n",
        "  <thead>\n",
        "    <tr style=\"text-align: right;\">\n",
        "      <th></th>\n",
        "      <th>FIPS_ID</th>\n",
        "      <th>country_name</th>\n",
        "    </tr>\n",
        "  </thead>\n",
        "  <tbody>\n",
        "    <tr>\n",
        "      <th>0</th>\n",
        "      <td> AA</td>\n",
        "      <td>               ARUBA</td>\n",
        "    </tr>\n",
        "    <tr>\n",
        "      <th>1</th>\n",
        "      <td> AC</td>\n",
        "      <td> ANTIGUA AND BARBUDA</td>\n",
        "    </tr>\n",
        "    <tr>\n",
        "      <th>2</th>\n",
        "      <td> AF</td>\n",
        "      <td>         AFGHANISTAN</td>\n",
        "    </tr>\n",
        "    <tr>\n",
        "      <th>3</th>\n",
        "      <td> AG</td>\n",
        "      <td>             ALGERIA</td>\n",
        "    </tr>\n",
        "    <tr>\n",
        "      <th>4</th>\n",
        "      <td> AI</td>\n",
        "      <td>    ASCENSION ISLAND</td>\n",
        "    </tr>\n",
        "  </tbody>\n",
        "</table>\n",
        "</div>"
       ],
       "metadata": {},
       "output_type": "pyout",
       "prompt_number": 4,
       "text": [
        "  FIPS_ID         country_name\n",
        "0      AA                ARUBA\n",
        "1      AC  ANTIGUA AND BARBUDA\n",
        "2      AF          AFGHANISTAN\n",
        "3      AG              ALGERIA\n",
        "4      AI     ASCENSION ISLAND"
       ]
      }
     ],
     "prompt_number": 4
    },
    {
     "cell_type": "code",
     "collapsed": false,
     "input": [
      "cmd =  \"SELECT * FROM station LIMIT 5\"\n",
      "cmd += \";\"\n",
      "sqlCall(cmd)"
     ],
     "language": "python",
     "metadata": {},
     "outputs": [
      {
       "html": [
        "<div style=\"max-height:1000px;max-width:1500px;overflow:auto;\">\n",
        "<table border=\"1\" class=\"dataframe\">\n",
        "  <thead>\n",
        "    <tr style=\"text-align: right;\">\n",
        "      <th></th>\n",
        "      <th>USAF</th>\n",
        "      <th>WBAN</th>\n",
        "      <th>station_name</th>\n",
        "      <th>CTRY</th>\n",
        "      <th>FIPS_ID</th>\n",
        "      <th>ST</th>\n",
        "      <th>callid</th>\n",
        "      <th>lat</th>\n",
        "      <th>lon</th>\n",
        "      <th>elev</th>\n",
        "    </tr>\n",
        "  </thead>\n",
        "  <tbody>\n",
        "    <tr>\n",
        "      <th>0</th>\n",
        "      <td> 000000</td>\n",
        "      <td> 99999</td>\n",
        "      <td>  NYGGBUKTA GREENLAND- STA</td>\n",
        "      <td> GL</td>\n",
        "      <td> GL</td>\n",
        "      <td> </td>\n",
        "      <td> </td>\n",
        "      <td> 73483</td>\n",
        "      <td> 21567</td>\n",
        "      <td>  30</td>\n",
        "    </tr>\n",
        "    <tr>\n",
        "      <th>1</th>\n",
        "      <td> 000010</td>\n",
        "      <td> 99999</td>\n",
        "      <td>                 JAN HAYEN</td>\n",
        "      <td> NO</td>\n",
        "      <td> NO</td>\n",
        "      <td> </td>\n",
        "      <td> </td>\n",
        "      <td> 70983</td>\n",
        "      <td> -7700</td>\n",
        "      <td> 229</td>\n",
        "    </tr>\n",
        "    <tr>\n",
        "      <th>2</th>\n",
        "      <td> 000020</td>\n",
        "      <td> 99999</td>\n",
        "      <td> ISFJORD RADIO SPITZBERGEN</td>\n",
        "      <td> NO</td>\n",
        "      <td> NO</td>\n",
        "      <td> </td>\n",
        "      <td> </td>\n",
        "      <td> 78067</td>\n",
        "      <td> 13633</td>\n",
        "      <td>  79</td>\n",
        "    </tr>\n",
        "    <tr>\n",
        "      <th>3</th>\n",
        "      <td> 000030</td>\n",
        "      <td> 99999</td>\n",
        "      <td>      BJORNOYA BARENTS SEA</td>\n",
        "      <td> NO</td>\n",
        "      <td> NO</td>\n",
        "      <td> </td>\n",
        "      <td> </td>\n",
        "      <td> 74467</td>\n",
        "      <td> 19283</td>\n",
        "      <td> 290</td>\n",
        "    </tr>\n",
        "    <tr>\n",
        "      <th>4</th>\n",
        "      <td> 000040</td>\n",
        "      <td> 99999</td>\n",
        "      <td>                     VAROO</td>\n",
        "      <td> NO</td>\n",
        "      <td> NO</td>\n",
        "      <td> </td>\n",
        "      <td> </td>\n",
        "      <td> 70367</td>\n",
        "      <td> 31100</td>\n",
        "      <td> 119</td>\n",
        "    </tr>\n",
        "  </tbody>\n",
        "</table>\n",
        "</div>"
       ],
       "metadata": {},
       "output_type": "pyout",
       "prompt_number": 5,
       "text": [
        "     USAF   WBAN               station_name CTRY FIPS_ID ST callid    lat  \\\n",
        "0  000000  99999   NYGGBUKTA GREENLAND- STA   GL      GL            73483   \n",
        "1  000010  99999                  JAN HAYEN   NO      NO            70983   \n",
        "2  000020  99999  ISFJORD RADIO SPITZBERGEN   NO      NO            78067   \n",
        "3  000030  99999       BJORNOYA BARENTS SEA   NO      NO            74467   \n",
        "4  000040  99999                      VAROO   NO      NO            70367   \n",
        "\n",
        "     lon  elev  \n",
        "0  21567    30  \n",
        "1  -7700   229  \n",
        "2  13633    79  \n",
        "3  19283   290  \n",
        "4  31100   119  "
       ]
      }
     ],
     "prompt_number": 5
    },
    {
     "cell_type": "code",
     "collapsed": false,
     "input": [
      "cmd =  \"SELECT * FROM observation LIMIT 5\"\n",
      "cmd += \";\"\n",
      "sqlCall(cmd)"
     ],
     "language": "python",
     "metadata": {},
     "outputs": [
      {
       "html": [
        "<div style=\"max-height:1000px;max-width:1500px;overflow:auto;\">\n",
        "<table border=\"1\" class=\"dataframe\">\n",
        "  <thead>\n",
        "    <tr style=\"text-align: right;\">\n",
        "      <th></th>\n",
        "      <th>STNYMD</th>\n",
        "      <th>STN</th>\n",
        "      <th>WBAN</th>\n",
        "      <th>year</th>\n",
        "      <th>month</th>\n",
        "      <th>day</th>\n",
        "      <th>temp</th>\n",
        "      <th>dewp</th>\n",
        "      <th>slp</th>\n",
        "      <th>stp</th>\n",
        "      <th>visib</th>\n",
        "      <th>wdsp</th>\n",
        "      <th>mxspd</th>\n",
        "      <th>gust</th>\n",
        "      <th>maxtemp</th>\n",
        "      <th>mintemp</th>\n",
        "      <th>prcp</th>\n",
        "      <th>sndp</th>\n",
        "      <th>FRSHTT</th>\n",
        "    </tr>\n",
        "  </thead>\n",
        "  <tbody>\n",
        "    <tr>\n",
        "      <th>0</th>\n",
        "      <td> 00820920090309</td>\n",
        "      <td> 008209</td>\n",
        "      <td> 99999</td>\n",
        "      <td> 2009</td>\n",
        "      <td> 3</td>\n",
        "      <td>  9</td>\n",
        "      <td> 782</td>\n",
        "      <td> 710</td>\n",
        "      <td> 99999</td>\n",
        "      <td> 99999</td>\n",
        "      <td> 9999</td>\n",
        "      <td> 13</td>\n",
        "      <td> 19</td>\n",
        "      <td> 9999</td>\n",
        "      <td> 806</td>\n",
        "      <td> 716</td>\n",
        "      <td> 0</td>\n",
        "      <td> 9999</td>\n",
        "      <td> 000000</td>\n",
        "    </tr>\n",
        "    <tr>\n",
        "      <th>1</th>\n",
        "      <td> 00820920090310</td>\n",
        "      <td> 008209</td>\n",
        "      <td> 99999</td>\n",
        "      <td> 2009</td>\n",
        "      <td> 3</td>\n",
        "      <td> 10</td>\n",
        "      <td> 678</td>\n",
        "      <td> 656</td>\n",
        "      <td> 99999</td>\n",
        "      <td> 99999</td>\n",
        "      <td> 9999</td>\n",
        "      <td> 12</td>\n",
        "      <td> 41</td>\n",
        "      <td> 9999</td>\n",
        "      <td> 806</td>\n",
        "      <td> 554</td>\n",
        "      <td> 0</td>\n",
        "      <td> 9999</td>\n",
        "      <td> 000000</td>\n",
        "    </tr>\n",
        "    <tr>\n",
        "      <th>2</th>\n",
        "      <td> 00820920090311</td>\n",
        "      <td> 008209</td>\n",
        "      <td> 99999</td>\n",
        "      <td> 2009</td>\n",
        "      <td> 3</td>\n",
        "      <td> 11</td>\n",
        "      <td> 681</td>\n",
        "      <td> 646</td>\n",
        "      <td> 99999</td>\n",
        "      <td> 99999</td>\n",
        "      <td> 9999</td>\n",
        "      <td> 13</td>\n",
        "      <td> 29</td>\n",
        "      <td> 9999</td>\n",
        "      <td> 824</td>\n",
        "      <td> 554</td>\n",
        "      <td> 0</td>\n",
        "      <td> 9999</td>\n",
        "      <td> 000000</td>\n",
        "    </tr>\n",
        "    <tr>\n",
        "      <th>3</th>\n",
        "      <td> 00820920090312</td>\n",
        "      <td> 008209</td>\n",
        "      <td> 99999</td>\n",
        "      <td> 2009</td>\n",
        "      <td> 3</td>\n",
        "      <td> 12</td>\n",
        "      <td> 666</td>\n",
        "      <td> 639</td>\n",
        "      <td> 99999</td>\n",
        "      <td> 99999</td>\n",
        "      <td> 9999</td>\n",
        "      <td> 12</td>\n",
        "      <td> 41</td>\n",
        "      <td> 9999</td>\n",
        "      <td> 806</td>\n",
        "      <td> 572</td>\n",
        "      <td> 0</td>\n",
        "      <td> 9999</td>\n",
        "      <td> 000000</td>\n",
        "    </tr>\n",
        "    <tr>\n",
        "      <th>4</th>\n",
        "      <td> 00820920090313</td>\n",
        "      <td> 008209</td>\n",
        "      <td> 99999</td>\n",
        "      <td> 2009</td>\n",
        "      <td> 3</td>\n",
        "      <td> 13</td>\n",
        "      <td> 669</td>\n",
        "      <td> 622</td>\n",
        "      <td> 99999</td>\n",
        "      <td> 99999</td>\n",
        "      <td> 9999</td>\n",
        "      <td> 13</td>\n",
        "      <td> 41</td>\n",
        "      <td> 9999</td>\n",
        "      <td> 806</td>\n",
        "      <td> 554</td>\n",
        "      <td> 0</td>\n",
        "      <td> 9999</td>\n",
        "      <td> 000000</td>\n",
        "    </tr>\n",
        "  </tbody>\n",
        "</table>\n",
        "</div>"
       ],
       "metadata": {},
       "output_type": "pyout",
       "prompt_number": 6,
       "text": [
        "           STNYMD     STN   WBAN  year  month  day  temp  dewp    slp    stp  \\\n",
        "0  00820920090309  008209  99999  2009      3    9   782   710  99999  99999   \n",
        "1  00820920090310  008209  99999  2009      3   10   678   656  99999  99999   \n",
        "2  00820920090311  008209  99999  2009      3   11   681   646  99999  99999   \n",
        "3  00820920090312  008209  99999  2009      3   12   666   639  99999  99999   \n",
        "4  00820920090313  008209  99999  2009      3   13   669   622  99999  99999   \n",
        "\n",
        "   visib  wdsp  mxspd  gust  maxtemp  mintemp  prcp  sndp  FRSHTT  \n",
        "0   9999    13     19  9999      806      716     0  9999  000000  \n",
        "1   9999    12     41  9999      806      554     0  9999  000000  \n",
        "2   9999    13     29  9999      824      554     0  9999  000000  \n",
        "3   9999    12     41  9999      806      572     0  9999  000000  \n",
        "4   9999    13     41  9999      806      554     0  9999  000000  "
       ]
      }
     ],
     "prompt_number": 6
    },
    {
     "cell_type": "heading",
     "level": 4,
     "metadata": {},
     "source": [
      "Selecting a Subset of Stations for Further Analysis and Visualization"
     ]
    },
    {
     "cell_type": "markdown",
     "metadata": {},
     "source": [
      "The database contains weather data for more than 9000 sites. For initial exploration and visualization, we will select a subset of these stations. In particular, the following cells ([7] through [11]) select the longest-running record (ie. the one with the most observations) from each country, breaking ties randomly."
     ]
    },
    {
     "cell_type": "code",
     "collapsed": false,
     "input": [
      "cmd  = \"SELECT USAF, FIPS_ID, obs.numYears \"\n",
      "cmd += \"FROM station \"\n",
      "cmd += \"JOIN (SELECT STN, COUNT(DISTINCT year) as numYears \"\n",
      "cmd += \"FROM observation \"\n",
      "cmd += \"GROUP BY STN) as obs \"\n",
      "cmd += \"ON station.USAF = obs.STN \"\n",
      "cmd += \";\"\n",
      "r = sqlCall(cmd)"
     ],
     "language": "python",
     "metadata": {},
     "outputs": [],
     "prompt_number": 7
    },
    {
     "cell_type": "code",
     "collapsed": false,
     "input": [
      "r.head()"
     ],
     "language": "python",
     "metadata": {},
     "outputs": [
      {
       "html": [
        "<div style=\"max-height:1000px;max-width:1500px;overflow:auto;\">\n",
        "<table border=\"1\" class=\"dataframe\">\n",
        "  <thead>\n",
        "    <tr style=\"text-align: right;\">\n",
        "      <th></th>\n",
        "      <th>USAF</th>\n",
        "      <th>FIPS_ID</th>\n",
        "      <th>numYears</th>\n",
        "    </tr>\n",
        "  </thead>\n",
        "  <tbody>\n",
        "    <tr>\n",
        "      <th>0</th>\n",
        "      <td> 010010</td>\n",
        "      <td> NO</td>\n",
        "      <td> 41</td>\n",
        "    </tr>\n",
        "    <tr>\n",
        "      <th>1</th>\n",
        "      <td> 010013</td>\n",
        "      <td> NO</td>\n",
        "      <td>  3</td>\n",
        "    </tr>\n",
        "    <tr>\n",
        "      <th>2</th>\n",
        "      <td> 010014</td>\n",
        "      <td> NO</td>\n",
        "      <td> 24</td>\n",
        "    </tr>\n",
        "    <tr>\n",
        "      <th>3</th>\n",
        "      <td> 010015</td>\n",
        "      <td> NO</td>\n",
        "      <td> 23</td>\n",
        "    </tr>\n",
        "    <tr>\n",
        "      <th>4</th>\n",
        "      <td> 010016</td>\n",
        "      <td> NO</td>\n",
        "      <td>  5</td>\n",
        "    </tr>\n",
        "  </tbody>\n",
        "</table>\n",
        "</div>"
       ],
       "metadata": {},
       "output_type": "pyout",
       "prompt_number": 8,
       "text": [
        "     USAF FIPS_ID  numYears\n",
        "0  010010      NO        41\n",
        "1  010013      NO         3\n",
        "2  010014      NO        24\n",
        "3  010015      NO        23\n",
        "4  010016      NO         5"
       ]
      }
     ],
     "prompt_number": 8
    },
    {
     "cell_type": "code",
     "collapsed": false,
     "input": [
      "idx = r.groupby(['FIPS_ID'])['numYears'].transform(max) == r['numYears']\n",
      "longestPerCountry = r[idx].sort('FIPS_ID')\n",
      "longestPerCountry.tail()"
     ],
     "language": "python",
     "metadata": {},
     "outputs": [
      {
       "html": [
        "<div style=\"max-height:1000px;max-width:1500px;overflow:auto;\">\n",
        "<table border=\"1\" class=\"dataframe\">\n",
        "  <thead>\n",
        "    <tr style=\"text-align: right;\">\n",
        "      <th></th>\n",
        "      <th>USAF</th>\n",
        "      <th>FIPS_ID</th>\n",
        "      <th>numYears</th>\n",
        "    </tr>\n",
        "  </thead>\n",
        "  <tbody>\n",
        "    <tr>\n",
        "      <th>11161</th>\n",
        "      <td> 679750</td>\n",
        "      <td> ZI</td>\n",
        "      <td> 44</td>\n",
        "    </tr>\n",
        "    <tr>\n",
        "      <th>11128</th>\n",
        "      <td> 677750</td>\n",
        "      <td> ZI</td>\n",
        "      <td> 44</td>\n",
        "    </tr>\n",
        "    <tr>\n",
        "      <th>11167</th>\n",
        "      <td> 679910</td>\n",
        "      <td> ZI</td>\n",
        "      <td> 44</td>\n",
        "    </tr>\n",
        "    <tr>\n",
        "      <th>11124</th>\n",
        "      <td> 677650</td>\n",
        "      <td> ZI</td>\n",
        "      <td> 44</td>\n",
        "    </tr>\n",
        "    <tr>\n",
        "      <th>11143</th>\n",
        "      <td> 678670</td>\n",
        "      <td> ZI</td>\n",
        "      <td> 44</td>\n",
        "    </tr>\n",
        "  </tbody>\n",
        "</table>\n",
        "</div>"
       ],
       "metadata": {},
       "output_type": "pyout",
       "prompt_number": 9,
       "text": [
        "         USAF FIPS_ID  numYears\n",
        "11161  679750      ZI        44\n",
        "11128  677750      ZI        44\n",
        "11167  679910      ZI        44\n",
        "11124  677650      ZI        44\n",
        "11143  678670      ZI        44"
       ]
      }
     ],
     "prompt_number": 9
    },
    {
     "cell_type": "code",
     "collapsed": false,
     "input": [
      "fn = lambda obj: obj.loc[np.random.choice(obj.index, 1, True),:]\n",
      "selectedSites = longestPerCountry.groupby('FIPS_ID', as_index=False).apply(fn)\n",
      "selectedSites.tail()"
     ],
     "language": "python",
     "metadata": {},
     "outputs": [
      {
       "html": [
        "<div style=\"max-height:1000px;max-width:1500px;overflow:auto;\">\n",
        "<table border=\"1\" class=\"dataframe\">\n",
        "  <thead>\n",
        "    <tr style=\"text-align: right;\">\n",
        "      <th></th>\n",
        "      <th></th>\n",
        "      <th>USAF</th>\n",
        "      <th>FIPS_ID</th>\n",
        "      <th>numYears</th>\n",
        "    </tr>\n",
        "  </thead>\n",
        "  <tbody>\n",
        "    <tr>\n",
        "      <th>255</th>\n",
        "      <th>7819 </th>\n",
        "      <td> 414363</td>\n",
        "      <td> YM</td>\n",
        "      <td> 22</td>\n",
        "    </tr>\n",
        "    <tr>\n",
        "      <th>256</th>\n",
        "      <th>3391 </th>\n",
        "      <td> 131500</td>\n",
        "      <td> YU</td>\n",
        "      <td> 31</td>\n",
        "    </tr>\n",
        "    <tr>\n",
        "      <th>257</th>\n",
        "      <th>10227</th>\n",
        "      <td> 601400</td>\n",
        "      <td> YY</td>\n",
        "      <td>  3</td>\n",
        "    </tr>\n",
        "    <tr>\n",
        "      <th>258</th>\n",
        "      <th>11106</th>\n",
        "      <td> 676650</td>\n",
        "      <td> ZA</td>\n",
        "      <td> 37</td>\n",
        "    </tr>\n",
        "    <tr>\n",
        "      <th>259</th>\n",
        "      <th>11167</th>\n",
        "      <td> 679910</td>\n",
        "      <td> ZI</td>\n",
        "      <td> 44</td>\n",
        "    </tr>\n",
        "  </tbody>\n",
        "</table>\n",
        "</div>"
       ],
       "metadata": {},
       "output_type": "pyout",
       "prompt_number": 10,
       "text": [
        "             USAF FIPS_ID  numYears\n",
        "255 7819   414363      YM        22\n",
        "256 3391   131500      YU        31\n",
        "257 10227  601400      YY         3\n",
        "258 11106  676650      ZA        37\n",
        "259 11167  679910      ZI        44"
       ]
      }
     ],
     "prompt_number": 10
    },
    {
     "cell_type": "code",
     "collapsed": false,
     "input": [
      "selectedSitesList = selectedSites['USAF'].tolist()\n",
      "selectedSitesList[:10]"
     ],
     "language": "python",
     "metadata": {},
     "outputs": [
      {
       "metadata": {},
       "output_type": "pyout",
       "prompt_number": 11,
       "text": [
        "['035963',\n",
        " '789820',\n",
        " '788620',\n",
        " '411960',\n",
        " '409480',\n",
        " '603900',\n",
        " '375750',\n",
        " '136150',\n",
        " '377890',\n",
        " '664220']"
       ]
      }
     ],
     "prompt_number": 11
    },
    {
     "cell_type": "heading",
     "level": 4,
     "metadata": {},
     "source": [
      "Collecting Site Description Details for these Sites"
     ]
    },
    {
     "cell_type": "markdown",
     "metadata": {},
     "source": [
      "The following collects the ID, station name, country name, latitude, longitude and elevation for each of the stations on the given site list."
     ]
    },
    {
     "cell_type": "code",
     "collapsed": false,
     "input": [
      "slist = str(selectedSitesList)[1:-1]\n",
      "slist[:100]"
     ],
     "language": "python",
     "metadata": {},
     "outputs": [
      {
       "metadata": {},
       "output_type": "pyout",
       "prompt_number": 12,
       "text": [
        "\"'035963', '789820', '788620', '411960', '409480', '603900', '375750', '136150', '377890', '664220', \""
       ]
      }
     ],
     "prompt_number": 12
    },
    {
     "cell_type": "code",
     "collapsed": false,
     "input": [
      "cmd  = \"SELECT s.USAF, s.station_name, c.country_name, \"\n",
      "cmd += \"(s.lat / 1000) as lat, (s.lon / 1000) as lon, (s.elev / 10) as elev \"\n",
      "cmd += \"FROM station s \"\n",
      "cmd += \"JOIN country c ON s.FIPS_ID = c.FIPS_ID \"\n",
      "cmd += \"WHERE s.USAF IN (\" + slist + \");\""
     ],
     "language": "python",
     "metadata": {},
     "outputs": [],
     "prompt_number": 13
    },
    {
     "cell_type": "code",
     "collapsed": false,
     "input": [
      "sites = sqlCall(cmd)\n",
      "sites[['lat','lon','elev']] = sites[['lat','lon','elev']].astype(float)\n",
      "sites.head()"
     ],
     "language": "python",
     "metadata": {},
     "outputs": [
      {
       "html": [
        "<div style=\"max-height:1000px;max-width:1500px;overflow:auto;\">\n",
        "<table border=\"1\" class=\"dataframe\">\n",
        "  <thead>\n",
        "    <tr style=\"text-align: right;\">\n",
        "      <th></th>\n",
        "      <th>USAF</th>\n",
        "      <th>station_name</th>\n",
        "      <th>country_name</th>\n",
        "      <th>lat</th>\n",
        "      <th>lon</th>\n",
        "      <th>elev</th>\n",
        "    </tr>\n",
        "  </thead>\n",
        "  <tbody>\n",
        "    <tr>\n",
        "      <th>0</th>\n",
        "      <td> 010620</td>\n",
        "      <td>               HOPEN</td>\n",
        "      <td>       SVALBARD</td>\n",
        "      <td> 76.500</td>\n",
        "      <td> 25.067</td>\n",
        "      <td>  10</td>\n",
        "    </tr>\n",
        "    <tr>\n",
        "      <th>1</th>\n",
        "      <td> 013840</td>\n",
        "      <td>     OSLO/GARDERMOEN</td>\n",
        "      <td>         NORWAY</td>\n",
        "      <td> 60.200</td>\n",
        "      <td> 11.083</td>\n",
        "      <td> 204</td>\n",
        "    </tr>\n",
        "    <tr>\n",
        "      <th>2</th>\n",
        "      <td> 026800</td>\n",
        "      <td>              HOBURG</td>\n",
        "      <td>         SWEDEN</td>\n",
        "      <td> 56.917</td>\n",
        "      <td> 18.150</td>\n",
        "      <td>  39</td>\n",
        "    </tr>\n",
        "    <tr>\n",
        "      <th>3</th>\n",
        "      <td> 029740</td>\n",
        "      <td>     HELSINKI-VANTAA</td>\n",
        "      <td>        FINLAND</td>\n",
        "      <td> 60.317</td>\n",
        "      <td> 24.967</td>\n",
        "      <td>  56</td>\n",
        "    </tr>\n",
        "    <tr>\n",
        "      <th>4</th>\n",
        "      <td> 031350</td>\n",
        "      <td> PRESTWICK(CIV/NAVY)</td>\n",
        "      <td> UNITED KINGDOM</td>\n",
        "      <td> 55.500</td>\n",
        "      <td> -4.583</td>\n",
        "      <td>  20</td>\n",
        "    </tr>\n",
        "  </tbody>\n",
        "</table>\n",
        "</div>"
       ],
       "metadata": {},
       "output_type": "pyout",
       "prompt_number": 14,
       "text": [
        "     USAF         station_name    country_name     lat     lon  elev\n",
        "0  010620                HOPEN        SVALBARD  76.500  25.067    10\n",
        "1  013840      OSLO/GARDERMOEN          NORWAY  60.200  11.083   204\n",
        "2  026800               HOBURG          SWEDEN  56.917  18.150    39\n",
        "3  029740      HELSINKI-VANTAA         FINLAND  60.317  24.967    56\n",
        "4  031350  PRESTWICK(CIV/NAVY)  UNITED KINGDOM  55.500  -4.583    20"
       ]
      }
     ],
     "prompt_number": 14
    },
    {
     "cell_type": "heading",
     "level": 4,
     "metadata": {},
     "source": [
      "Collecting Monthly Average, Minimum and Maximum Temperatures for these Sites"
     ]
    },
    {
     "cell_type": "markdown",
     "metadata": {},
     "source": [
      "The weather observations in the database are recorded on a daily basis. For our purposes, we are only interested in the monthly average, minimum and maximum temperatures, and only for the site list described above."
     ]
    },
    {
     "cell_type": "code",
     "collapsed": false,
     "input": [
      "siteTemps = []\n",
      "for site in selectedSitesList:\n",
      "    cmd  = \"SELECT STN, year, month, AVG(temp), MAX(maxtemp), MIN(mintemp) \"\n",
      "    cmd += \"FROM observation \"\n",
      "    cmd += \"WHERE STN = '\" + site + \"' \" \n",
      "    cmd += \"GROUP BY year, month \"\n",
      "    cmd += \";\"\n",
      "    siteTemps.append(sqlCall(cmd))\n",
      "siteTemps[0].head(10)"
     ],
     "language": "python",
     "metadata": {},
     "outputs": [
      {
       "html": [
        "<div style=\"max-height:1000px;max-width:1500px;overflow:auto;\">\n",
        "<table border=\"1\" class=\"dataframe\">\n",
        "  <thead>\n",
        "    <tr style=\"text-align: right;\">\n",
        "      <th></th>\n",
        "      <th>STN</th>\n",
        "      <th>year</th>\n",
        "      <th>month</th>\n",
        "      <th>AVG(temp)</th>\n",
        "      <th>MAX(maxtemp)</th>\n",
        "      <th>MIN(mintemp)</th>\n",
        "    </tr>\n",
        "  </thead>\n",
        "  <tbody>\n",
        "    <tr>\n",
        "      <th>0</th>\n",
        "      <td> 035963</td>\n",
        "      <td> 1945</td>\n",
        "      <td> 1</td>\n",
        "      <td> 330.0323</td>\n",
        "      <td> 473</td>\n",
        "      <td> 174</td>\n",
        "    </tr>\n",
        "    <tr>\n",
        "      <th>1</th>\n",
        "      <td> 035963</td>\n",
        "      <td> 1945</td>\n",
        "      <td> 2</td>\n",
        "      <td> 453.7500</td>\n",
        "      <td> 603</td>\n",
        "      <td> 313</td>\n",
        "    </tr>\n",
        "    <tr>\n",
        "      <th>2</th>\n",
        "      <td> 035963</td>\n",
        "      <td> 1945</td>\n",
        "      <td> 3</td>\n",
        "      <td> 466.0000</td>\n",
        "      <td> 644</td>\n",
        "      <td> 313</td>\n",
        "    </tr>\n",
        "    <tr>\n",
        "      <th>3</th>\n",
        "      <td> 035963</td>\n",
        "      <td> 1945</td>\n",
        "      <td> 4</td>\n",
        "      <td> 489.9333</td>\n",
        "      <td> 734</td>\n",
        "      <td> 324</td>\n",
        "    </tr>\n",
        "    <tr>\n",
        "      <th>4</th>\n",
        "      <td> 035963</td>\n",
        "      <td> 1945</td>\n",
        "      <td> 5</td>\n",
        "      <td> 545.1667</td>\n",
        "      <td> 793</td>\n",
        "      <td> 324</td>\n",
        "    </tr>\n",
        "    <tr>\n",
        "      <th>5</th>\n",
        "      <td> 035963</td>\n",
        "      <td> 1945</td>\n",
        "      <td> 6</td>\n",
        "      <td> 592.4333</td>\n",
        "      <td> 783</td>\n",
        "      <td> 453</td>\n",
        "    </tr>\n",
        "    <tr>\n",
        "      <th>6</th>\n",
        "      <td> 035963</td>\n",
        "      <td> 1945</td>\n",
        "      <td> 7</td>\n",
        "      <td> 590.0000</td>\n",
        "      <td> 703</td>\n",
        "      <td> 484</td>\n",
        "    </tr>\n",
        "    <tr>\n",
        "      <th>7</th>\n",
        "      <td> 035963</td>\n",
        "      <td> 1951</td>\n",
        "      <td> 6</td>\n",
        "      <td> 590.1200</td>\n",
        "      <td> 763</td>\n",
        "      <td> 441</td>\n",
        "    </tr>\n",
        "    <tr>\n",
        "      <th>8</th>\n",
        "      <td> 035963</td>\n",
        "      <td> 1951</td>\n",
        "      <td> 7</td>\n",
        "      <td> 624.9032</td>\n",
        "      <td> 784</td>\n",
        "      <td> 453</td>\n",
        "    </tr>\n",
        "    <tr>\n",
        "      <th>9</th>\n",
        "      <td> 035963</td>\n",
        "      <td> 1951</td>\n",
        "      <td> 8</td>\n",
        "      <td> 610.3548</td>\n",
        "      <td> 734</td>\n",
        "      <td> 473</td>\n",
        "    </tr>\n",
        "  </tbody>\n",
        "</table>\n",
        "</div>"
       ],
       "metadata": {},
       "output_type": "pyout",
       "prompt_number": 24,
       "text": [
        "      STN  year  month AVG(temp)  MAX(maxtemp)  MIN(mintemp)\n",
        "0  035963  1945      1  330.0323           473           174\n",
        "1  035963  1945      2  453.7500           603           313\n",
        "2  035963  1945      3  466.0000           644           313\n",
        "3  035963  1945      4  489.9333           734           324\n",
        "4  035963  1945      5  545.1667           793           324\n",
        "5  035963  1945      6  592.4333           783           453\n",
        "6  035963  1945      7  590.0000           703           484\n",
        "7  035963  1951      6  590.1200           763           441\n",
        "8  035963  1951      7  624.9032           784           453\n",
        "9  035963  1951      8  610.3548           734           473"
       ]
      }
     ],
     "prompt_number": 24
    },
    {
     "cell_type": "heading",
     "level": 4,
     "metadata": {},
     "source": [
      "Initial graphing"
     ]
    },
    {
     "cell_type": "markdown",
     "metadata": {},
     "source": [
      "The following graph shows the distribution of selected sites by latitude and longitude (note that the rough shape of Africa is visible in the center of the graph). "
     ]
    },
    {
     "cell_type": "code",
     "collapsed": false,
     "input": [
      "sites.plot(x='lon',y='lat',kind='scatter')"
     ],
     "language": "python",
     "metadata": {},
     "outputs": [
      {
       "metadata": {},
       "output_type": "pyout",
       "prompt_number": 25,
       "text": [
        "<matplotlib.axes._subplots.AxesSubplot at 0x10863fdd0>"
       ]
      },
      {
       "metadata": {},
       "output_type": "display_data",
       "png": "[encoded data removed]",
       "text": [
        "<matplotlib.figure.Figure at 0x108558790>"
       ]
      }
     ],
     "prompt_number": 25
    },
    {
     "cell_type": "markdown",
     "metadata": {},
     "source": [
      "The following graph shows an example scatter plot of monthly average temperatures (over many years) for a single site."
     ]
    },
    {
     "cell_type": "code",
     "collapsed": false,
     "input": [
      "grapher = siteTemps[0]\n",
      "grapher[['year']] = grapher[['year']].astype(int)\n",
      "grapher[['month']] = grapher[['month']].astype(int)\n",
      "grapher[['t']] = grapher[['AVG(temp)']].astype(float) / 10\n",
      "grapher.groupby('year')\n",
      "grapher.plot(x='month',y='t',kind='scatter')"
     ],
     "language": "python",
     "metadata": {},
     "outputs": [
      {
       "metadata": {},
       "output_type": "pyout",
       "prompt_number": 49,
       "text": [
        "<matplotlib.axes._subplots.AxesSubplot at 0x10b8b2210>"
       ]
      },
      {
       "metadata": {},
       "output_type": "display_data",
       "png": "[encoded data removed]",
       "text": [
        "<matplotlib.figure.Figure at 0x10b9c1a90>"
       ]
      }
     ],
     "prompt_number": 49
    },
    {
     "cell_type": "heading",
     "level": 4,
     "metadata": {},
     "source": [
      "Exporting Processed Data for D3 Visualization"
     ]
    },
    {
     "cell_type": "markdown",
     "metadata": {},
     "source": [
      "The sites and temperature data is exported to text files as follows. It is then used in the D3 visualization shown in the blog post [here](http://briancoffey.ca/blogpost5.html)"
     ]
    },
    {
     "cell_type": "code",
     "collapsed": false,
     "input": [
      "sites.to_csv('sites.csv',sep='\\t',index=False)"
     ],
     "language": "python",
     "metadata": {},
     "outputs": [],
     "prompt_number": 26
    },
    {
     "cell_type": "code",
     "collapsed": false,
     "input": [
      "for i in range(len(selectedSitesList)):\n",
      "    siteTemps[i].to_csv('sitesTemps' + str(i) + '.csv',sep='\\t',index=False)"
     ],
     "language": "python",
     "metadata": {},
     "outputs": [],
     "prompt_number": 27
    }
   ],
   "metadata": {}
  }
 ]
}