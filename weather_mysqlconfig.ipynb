{
 "metadata": {
  "name": "",
  "signature": "sha256:dca33ecaf558e178f24666dba57513c520fe24859a12cc448a515994fb9e8900"
 },
 "nbformat": 3,
 "nbformat_minor": 0,
 "worksheets": [
  {
   "cells": [
    {
     "cell_type": "heading",
     "level": 2,
     "metadata": {},
     "source": [
      "Configuring EC2 MySQL"
     ]
    },
    {
     "cell_type": "markdown",
     "metadata": {},
     "source": [
      "hiya. overall."
     ]
    },
    {
     "cell_type": "heading",
     "level": 4,
     "metadata": {},
     "source": [
      "Libraries, Keys, Convenience Methods"
     ]
    },
    {
     "cell_type": "markdown",
     "metadata": {},
     "source": [
      "Boto for AWS interaction. Paramiko for ssh. Pandas just for nice table outputs here."
     ]
    },
    {
     "cell_type": "code",
     "collapsed": false,
     "input": [
      "import sys, os, time\n",
      "import paramiko as pm\n",
      "import boto as bt\n",
      "import pandas as pd"
     ],
     "language": "python",
     "metadata": {},
     "outputs": [],
     "prompt_number": 1
    },
    {
     "cell_type": "markdown",
     "metadata": {},
     "source": [
      "need em."
     ]
    },
    {
     "cell_type": "code",
     "collapsed": false,
     "input": [
      "AWSAccessKeyId, AWSSecretKey = ( line.strip().split('=')[1] for line in open('/Users/brian/rootkey.csv','r') )\n",
      "sshKeyName, instancePass, mysqlPass, myIP = ( line.strip().split('=')[1] for line in open('/Users/brian/passwords.csv','r') )"
     ],
     "language": "python",
     "metadata": {},
     "outputs": [],
     "prompt_number": 2
    },
    {
     "cell_type": "markdown",
     "metadata": {},
     "source": [
      "Convenience Methods"
     ]
    },
    {
     "cell_type": "code",
     "collapsed": false,
     "input": [
      "def waitUntilReady(obj,desiredStatus):\n",
      "    while obj.update() != desiredStatus:\n",
      "        sys.stdout.write(\".\")\n",
      "        time.sleep(1)"
     ],
     "language": "python",
     "metadata": {},
     "outputs": [],
     "prompt_number": 3
    },
    {
     "cell_type": "heading",
     "level": 4,
     "metadata": {},
     "source": [
      "Getting Bits Running"
     ]
    },
    {
     "cell_type": "markdown",
     "metadata": {},
     "source": [
      "connect to ec2"
     ]
    },
    {
     "cell_type": "code",
     "collapsed": false,
     "input": [
      "ec2 = bt.connect_ec2( aws_access_key_id = AWSAccessKeyId, \n",
      "                      aws_secret_access_key = AWSSecretKey )"
     ],
     "language": "python",
     "metadata": {},
     "outputs": [],
     "prompt_number": 4
    },
    {
     "cell_type": "markdown",
     "metadata": {},
     "source": [
      "fire up an instance based on the basic Amazon Linux AMI"
     ]
    },
    {
     "cell_type": "code",
     "collapsed": false,
     "input": [
      "res = ec2.run_instances( 'ami-146e2a7c', # \"Amazon Linux AMI\"\n",
      "                         key_name = sshKeyName, \n",
      "                         instance_type = 'r3.large', \n",
      "                         security_groups = ['onlyMyIP'], # previously-configured security group\n",
      "                         placement = 'us-east-1a' ) # region\n",
      "\n",
      "allInstances = res.instances\n",
      "instance = allInstances[0]"
     ],
     "language": "python",
     "metadata": {},
     "outputs": [],
     "prompt_number": 5
    },
    {
     "cell_type": "markdown",
     "metadata": {},
     "source": [
      "fire up some EBS volumes, one empty, the other based on the wikipedia data"
     ]
    },
    {
     "cell_type": "code",
     "collapsed": false,
     "input": [
      "mysqlVolume = ec2.create_volume(size=100, zone='us-east-1a', snapshot=None, volume_type='gp2')\n",
      "givenDataVolume = ec2.create_volume(size=20, zone='us-east-1a', snapshot='snap-ac47f4c5', volume_type='gp2')"
     ],
     "language": "python",
     "metadata": {},
     "outputs": [],
     "prompt_number": 6
    },
    {
     "cell_type": "markdown",
     "metadata": {},
     "source": [
      "wait until the instance and volumes are ready"
     ]
    },
    {
     "cell_type": "code",
     "collapsed": false,
     "input": [
      "time.sleep(10) # to make sure the instance is registered before checking if it is ready\n",
      "waitUntilReady(instance,'running')\n",
      "waitUntilReady(mysqlVolume,'available')\n",
      "waitUntilReady(givenDataVolume,'available')\n",
      "instance, mysqlVolume, givenDataVolume"
     ],
     "language": "python",
     "metadata": {},
     "outputs": [
      {
       "output_type": "stream",
       "stream": "stdout",
       "text": [
        ".."
       ]
      },
      {
       "output_type": "stream",
       "stream": "stdout",
       "text": [
        ".."
       ]
      },
      {
       "output_type": "stream",
       "stream": "stdout",
       "text": [
        ".."
       ]
      },
      {
       "metadata": {},
       "output_type": "pyout",
       "prompt_number": 7,
       "text": [
        "(Instance:i-088a96f2, Volume:vol-c39b2d89, Volume:vol-a69a2cec)"
       ]
      }
     ],
     "prompt_number": 7
    },
    {
     "cell_type": "markdown",
     "metadata": {},
     "source": [
      "attach the volumes to the instance"
     ]
    },
    {
     "cell_type": "code",
     "collapsed": false,
     "input": [
      "att1 = ec2.attach_volume(mysqlVolume.id, instance.id, '/dev/xvdc')\n",
      "att1 = ec2.attach_volume(givenDataVolume.id, instance.id, '/dev/xvdb')"
     ],
     "language": "python",
     "metadata": {},
     "outputs": [],
     "prompt_number": 8
    },
    {
     "cell_type": "markdown",
     "metadata": {},
     "source": [
      "again, wait until they are properly attached"
     ]
    },
    {
     "cell_type": "code",
     "collapsed": false,
     "input": [
      "waitUntilReady(mysqlVolume,'in-use')\n",
      "waitUntilReady(givenDataVolume,'in-use')"
     ],
     "language": "python",
     "metadata": {},
     "outputs": [],
     "prompt_number": 9
    },
    {
     "cell_type": "heading",
     "level": 4,
     "metadata": {},
     "source": [
      "Establish ssh connection"
     ]
    },
    {
     "cell_type": "markdown",
     "metadata": {},
     "source": [
      "At this point, an unfortunate thing needs to happen: in terminal, manually ssh into the ec2 instance, sudo vim /etc/sudoers and add a line at the end to say : 'Defaults !requiretty' . This will let us use Paramiko to run sudo commands without requiring a tty. Pain in the butt. visudo might work though?"
     ]
    },
    {
     "cell_type": "markdown",
     "metadata": {},
     "source": [
      "https://github.com/mitchellh/vagrant/issues/1482\n",
      "\n",
      "http://paramiko-docs.readthedocs.org/en/latest/api/channel.html#paramiko.channel.Channel.get_pty\n",
      "\n",
      "https://forums.aws.amazon.com/thread.jspa?messageID=281570\n",
      "\n",
      "http://www.takaitra.com/posts/tag/boto\n",
      "\n"
     ]
    },
    {
     "cell_type": "code",
     "collapsed": false,
     "input": [
      "def establishSSHconnection():\n",
      "    rsaKey = pm.RSAKey.from_private_key_file(sshKeyName + '.pem')\n",
      "    ssh = pm.SSHClient()\n",
      "    ssh.set_missing_host_key_policy(pm.AutoAddPolicy())\n",
      "    totalTime = 0 \n",
      "    connected = False\n",
      "    while not connected:\n",
      "        try:\n",
      "            ssh.connect( str(instance.public_dns_name), \n",
      "                         username = 'ec2-user', \n",
      "                         pkey = rsaKey )\n",
      "            connected = True\n",
      "        except Exception as e: \n",
      "            sys.stdout.write(\".\")\n",
      "            time.sleep(1)\n",
      "            totalTime += 1\n",
      "            if totalTime >= 300:\n",
      "                sys.stdout.write( str(instance.public_dns_name) + ': ' + \n",
      "                                  \"Timed out waiting for instance to get ssh ready\\n\" )\n",
      "                break\n",
      "    return ssh\n",
      "\n",
      "def prettyOut(obj):\n",
      "    l = [r.strip('\\n').split('\\t') for r in obj.readlines()]\n",
      "    if len(l) > 1:\n",
      "        df = pd.DataFrame(l[1:len(l)])\n",
      "        df.columns = l[0]\n",
      "    else:\n",
      "        df = pd.DataFrame(l)\n",
      "    return df\n",
      "\n",
      "def sshCommandWait(cmd,pretty=False):\n",
      "    ssh = establishSSHconnection()\n",
      "    stdin, stdout, stderr = ssh.exec_command(cmd)\n",
      "    if pretty:\n",
      "        stdout = prettyOut(stdout)\n",
      "        stderr = prettyOut(stderr)\n",
      "    else:\n",
      "        stdout = stdout.readlines()\n",
      "        stderr = stderr.readlines()\n",
      "    ssh.close()\n",
      "    return stdout, stderr\n",
      "\n",
      "def sshCommandNoWait(cmd):\n",
      "    ssh = establishSSHconnection()\n",
      "    ssh.exec_command(cmd)\n",
      "    ssh.close()\n",
      "\n",
      "def sftpSendFile(localFile,remoteFile):\n",
      "    ssh = establishSSHconnection()\n",
      "    ftp = ssh.open_sftp()\n",
      "    ftp.put(localFile,remoteFile)\n",
      "    ftp.close()\n",
      "    ssh.close()\n",
      "\n",
      "def sftpGetFile(remoteFile,localFile):\n",
      "    ssh = establishSSHconnection()\n",
      "    ftp = ssh.open_sftp()\n",
      "    try:\n",
      "        ftp.get(remoteFile,localFile)\n",
      "        success = True\n",
      "    except:\n",
      "        success = False\n",
      "    ftp.close()\n",
      "    ssh.close()\n",
      "    return success"
     ],
     "language": "python",
     "metadata": {},
     "outputs": [],
     "prompt_number": 10
    },
    {
     "cell_type": "code",
     "collapsed": false,
     "input": [
      "o,e = sshCommandWait('sudo echo hello')\n",
      "o,e"
     ],
     "language": "python",
     "metadata": {},
     "outputs": [
      {
       "metadata": {},
       "output_type": "pyout",
       "prompt_number": 11,
       "text": [
        "([u'hello\\n'], [])"
       ]
      }
     ],
     "prompt_number": 11
    },
    {
     "cell_type": "heading",
     "level": 4,
     "metadata": {},
     "source": [
      "Mount the EBS Volumes"
     ]
    },
    {
     "cell_type": "markdown",
     "metadata": {},
     "source": [
      "View the currently mounted volumes:"
     ]
    },
    {
     "cell_type": "code",
     "collapsed": false,
     "input": [
      "o,e = sshCommandWait('df -h')\n",
      "o"
     ],
     "language": "python",
     "metadata": {},
     "outputs": [
      {
       "metadata": {},
       "output_type": "pyout",
       "prompt_number": 12,
       "text": [
        "[u'Filesystem      Size  Used Avail Use% Mounted on\\n',\n",
        " u'/dev/xvda1      7.8G  1.1G  6.6G  14% /\\n',\n",
        " u'devtmpfs        7.5G   64K  7.5G   1% /dev\\n',\n",
        " u'tmpfs           7.5G     0  7.5G   0% /dev/shm\\n']"
       ]
      }
     ],
     "prompt_number": 12
    },
    {
     "cell_type": "markdown",
     "metadata": {},
     "source": [
      "View available volumes before starting the mounting process:"
     ]
    },
    {
     "cell_type": "code",
     "collapsed": false,
     "input": [
      "o,e = sshCommandWait('lsblk')\n",
      "o"
     ],
     "language": "python",
     "metadata": {},
     "outputs": [
      {
       "metadata": {},
       "output_type": "pyout",
       "prompt_number": 13,
       "text": [
        "[u'NAME    MAJ:MIN RM  SIZE RO TYPE MOUNTPOINT\\n',\n",
        " u'xvda    202:0    0    8G  0 disk \\n',\n",
        " u'\\u2514\\u2500xvda1 202:1    0    8G  0 part /\\n',\n",
        " u'xvdb    202:16   0   20G  0 disk \\n',\n",
        " u'xvdc    202:32   0  100G  0 disk \\n']"
       ]
      }
     ],
     "prompt_number": 13
    },
    {
     "cell_type": "markdown",
     "metadata": {},
     "source": [
      "Format the new volume (only the new one, not the given data one):"
     ]
    },
    {
     "cell_type": "code",
     "collapsed": false,
     "input": [
      "o,e = sshCommandWait('sudo mkfs -t ext4 /dev/xvdc')"
     ],
     "language": "python",
     "metadata": {},
     "outputs": [],
     "prompt_number": 14
    },
    {
     "cell_type": "markdown",
     "metadata": {},
     "source": [
      "Make mount directories and mount the volumes. Note that for the given data volume, must mount the partition, not the disk. This may take a few minutes - the mounting of the given data volume takes some time."
     ]
    },
    {
     "cell_type": "code",
     "collapsed": false,
     "input": [
      "o,e = sshCommandWait('sudo mkdir /mnt/givenDataVolume')\n",
      "o,e = sshCommandWait('sudo mkdir /mnt/mysqlVolume')\n",
      "o,e = sshCommandWait('sudo mount /dev/xvdb /mnt/givenDataVolume')\n",
      "o,e = sshCommandWait('sudo mount /dev/xvdc /mnt/mysqlVolume')"
     ],
     "language": "python",
     "metadata": {},
     "outputs": [],
     "prompt_number": 15
    },
    {
     "cell_type": "markdown",
     "metadata": {},
     "source": [
      "View list of mounted volumes again to be sure that the new volumes are mounted correctly."
     ]
    },
    {
     "cell_type": "code",
     "collapsed": false,
     "input": [
      "o,e = sshCommandWait('df -h')\n",
      "o"
     ],
     "language": "python",
     "metadata": {},
     "outputs": [
      {
       "metadata": {},
       "output_type": "pyout",
       "prompt_number": 16,
       "text": [
        "[u'Filesystem      Size  Used Avail Use% Mounted on\\n',\n",
        " u'/dev/xvda1      7.8G  1.1G  6.6G  14% /\\n',\n",
        " u'devtmpfs        7.5G   64K  7.5G   1% /dev\\n',\n",
        " u'tmpfs           7.5G     0  7.5G   0% /dev/shm\\n',\n",
        " u'/dev/xvdb        20G   17G  2.3G  88% /mnt/givenDataVolume\\n',\n",
        " u'/dev/xvdc        99G   61M   94G   1% /mnt/mysqlVolume\\n']"
       ]
      }
     ],
     "prompt_number": 16
    },
    {
     "cell_type": "heading",
     "level": 4,
     "metadata": {},
     "source": [
      "Set up MySQL on Instance"
     ]
    },
    {
     "cell_type": "markdown",
     "metadata": {},
     "source": [
      "The Amazon Linux AMI has repos set up for mysql and mysql-server. Just need to update those repos and run the installers."
     ]
    },
    {
     "cell_type": "code",
     "collapsed": false,
     "input": [
      "o,e = sshCommandWait('sudo yum -y update')\n",
      "o,e = sshCommandWait('sudo yum -y install mysql')\n",
      "o,e = sshCommandWait('sudo mkdir /var/lib/mysql')\n",
      "o,e = sshCommandWait('sudo yum -y install mysql-server')"
     ],
     "language": "python",
     "metadata": {},
     "outputs": [],
     "prompt_number": 17
    },
    {
     "cell_type": "markdown",
     "metadata": {},
     "source": [
      "To use the attached volume for the db instead of the default folder:"
     ]
    },
    {
     "cell_type": "code",
     "collapsed": false,
     "input": [
      "o,e = sshCommandWait('sudo mkdir -p /mnt/mysqlVolume/data')\n",
      "o,e = sshCommandWait('sudo mkdir -p /mnt/mysqlVolume/tmp')\n",
      "o,e = sshCommandWait('sudo chown -R mysql.mysql /mnt/mysqlVolume/data')\n",
      "o,e = sshCommandWait('sudo chown -R mysql.mysql /mnt/mysqlVolume/tmp')"
     ],
     "language": "python",
     "metadata": {},
     "outputs": [],
     "prompt_number": 18
    },
    {
     "cell_type": "markdown",
     "metadata": {},
     "source": [
      "sudo vim /etc/my.cnf\n",
      "\n",
      "change datadir=/var/lib/mysql\n",
      "\n",
      "datadir=/mnt/mysqlwiki/data"
     ]
    },
    {
     "cell_type": "code",
     "collapsed": false,
     "input": [
      "cmd  = 'sudo sed -i '\n",
      "cmd += '\"s/datadir\\=\\/var\\/lib\\/mysql/datadir\\=\\/mnt\\/mysqlVolume\\/data\\\\ntmpdir\\=\\/mnt\\/mysqlVolume\\/tmp/g\" '\n",
      "cmd += '/etc/my.cnf'\n",
      "o,e = sshCommandWait(cmd)\n",
      "o,e"
     ],
     "language": "python",
     "metadata": {},
     "outputs": [
      {
       "metadata": {},
       "output_type": "pyout",
       "prompt_number": 19,
       "text": [
        "([], [])"
       ]
      }
     ],
     "prompt_number": 19
    },
    {
     "cell_type": "markdown",
     "metadata": {},
     "source": [
      "Start MySQL"
     ]
    },
    {
     "cell_type": "code",
     "collapsed": false,
     "input": [
      "o,e = sshCommandWait('sudo /etc/init.d/mysqld start')"
     ],
     "language": "python",
     "metadata": {},
     "outputs": [],
     "prompt_number": 20
    },
    {
     "cell_type": "markdown",
     "metadata": {},
     "source": [
      "Set root password for MySQL, and configure it to run on startup: "
     ]
    },
    {
     "cell_type": "code",
     "collapsed": false,
     "input": [
      "o,e = sshCommandWait('mysqladmin -u root password \"' + mysqlPass + '\"')\n",
      "o,e = sshCommandWait('sudo chkconfig mysqld on')"
     ],
     "language": "python",
     "metadata": {},
     "outputs": [],
     "prompt_number": 21
    },
    {
     "cell_type": "markdown",
     "metadata": {},
     "source": [
      "Quick test of server setup:"
     ]
    },
    {
     "cell_type": "code",
     "collapsed": false,
     "input": [
      "o,e = sshCommandWait('mysql -e \"SHOW DATABASES;\" -u root --password=' + mysqlPass, True)\n",
      "o"
     ],
     "language": "python",
     "metadata": {},
     "outputs": [
      {
       "html": [
        "<div style=\"max-height:1000px;max-width:1500px;overflow:auto;\">\n",
        "<table border=\"1\" class=\"dataframe\">\n",
        "  <thead>\n",
        "    <tr style=\"text-align: right;\">\n",
        "      <th></th>\n",
        "      <th>Database</th>\n",
        "    </tr>\n",
        "  </thead>\n",
        "  <tbody>\n",
        "    <tr>\n",
        "      <th>0</th>\n",
        "      <td> information_schema</td>\n",
        "    </tr>\n",
        "    <tr>\n",
        "      <th>1</th>\n",
        "      <td>              mysql</td>\n",
        "    </tr>\n",
        "    <tr>\n",
        "      <th>2</th>\n",
        "      <td> performance_schema</td>\n",
        "    </tr>\n",
        "    <tr>\n",
        "      <th>3</th>\n",
        "      <td>               test</td>\n",
        "    </tr>\n",
        "  </tbody>\n",
        "</table>\n",
        "</div>"
       ],
       "metadata": {},
       "output_type": "pyout",
       "prompt_number": 22,
       "text": [
        "             Database\n",
        "0  information_schema\n",
        "1               mysql\n",
        "2  performance_schema\n",
        "3                test"
       ]
      }
     ],
     "prompt_number": 22
    },
    {
     "cell_type": "heading",
     "level": 4,
     "metadata": {},
     "source": [
      "Configure Database"
     ]
    },
    {
     "cell_type": "markdown",
     "metadata": {},
     "source": [
      "add a database named wiki\n"
     ]
    },
    {
     "cell_type": "code",
     "collapsed": false,
     "input": [
      "o,e = sshCommandWait('mysql -e \"CREATE DATABASE weather;\" -u root --password=' + mysqlPass)"
     ],
     "language": "python",
     "metadata": {},
     "outputs": [],
     "prompt_number": 23
    },
    {
     "cell_type": "markdown",
     "metadata": {},
     "source": [
      "3 tables in database - country, station, observation. the first two are small, the last one large."
     ]
    },
    {
     "cell_type": "heading",
     "level": 6,
     "metadata": {},
     "source": [
      "country"
     ]
    },
    {
     "cell_type": "markdown",
     "metadata": {},
     "source": [
      "simple relationship between an ID and a country name. from country_list.txt in top-level folder."
     ]
    },
    {
     "cell_type": "code",
     "collapsed": false,
     "input": [
      "sqlcommand  = 'CREATE TABLE country '\n",
      "sqlcommand += '( FIPS_ID VARCHAR(2) PRIMARY KEY, country_name VARCHAR(47) ) '\n",
      "sqlcommand += ';'\n",
      "o,e = sshCommandWait('mysql -e \"' + sqlcommand + '\" -u root --password=' + mysqlPass + ' weather')"
     ],
     "language": "python",
     "metadata": {},
     "outputs": [],
     "prompt_number": 24
    },
    {
     "cell_type": "code",
     "collapsed": false,
     "input": [
      "sqlcommand = 'DESCRIBE country;'\n",
      "o,e = sshCommandWait('mysql -e \"' + sqlcommand + '\" -u root --password=' + mysqlPass + ' weather', True)\n",
      "o"
     ],
     "language": "python",
     "metadata": {},
     "outputs": [
      {
       "html": [
        "<div style=\"max-height:1000px;max-width:1500px;overflow:auto;\">\n",
        "<table border=\"1\" class=\"dataframe\">\n",
        "  <thead>\n",
        "    <tr style=\"text-align: right;\">\n",
        "      <th></th>\n",
        "      <th>Field</th>\n",
        "      <th>Type</th>\n",
        "      <th>Null</th>\n",
        "      <th>Key</th>\n",
        "      <th>Default</th>\n",
        "      <th>Extra</th>\n",
        "    </tr>\n",
        "  </thead>\n",
        "  <tbody>\n",
        "    <tr>\n",
        "      <th>0</th>\n",
        "      <td>      FIPS_ID</td>\n",
        "      <td>  varchar(2)</td>\n",
        "      <td>  NO</td>\n",
        "      <td> PRI</td>\n",
        "      <td> NULL</td>\n",
        "      <td> </td>\n",
        "    </tr>\n",
        "    <tr>\n",
        "      <th>1</th>\n",
        "      <td> country_name</td>\n",
        "      <td> varchar(47)</td>\n",
        "      <td> YES</td>\n",
        "      <td>    </td>\n",
        "      <td> NULL</td>\n",
        "      <td> </td>\n",
        "    </tr>\n",
        "  </tbody>\n",
        "</table>\n",
        "</div>"
       ],
       "metadata": {},
       "output_type": "pyout",
       "prompt_number": 25,
       "text": [
        "          Field         Type Null  Key Default Extra\n",
        "0       FIPS_ID   varchar(2)   NO  PRI    NULL      \n",
        "1  country_name  varchar(47)  YES         NULL      "
       ]
      }
     ],
     "prompt_number": 25
    },
    {
     "cell_type": "heading",
     "level": 6,
     "metadata": {},
     "source": [
      "station"
     ]
    },
    {
     "cell_type": "markdown",
     "metadata": {},
     "source": [
      "Integrated Surface Database Station History, July 2009\n",
      "\n",
      "USAF = Air Force Datsav3 station number\n",
      "WBAN = NCDC WBAN number\n",
      "CTRY = WMO historical country ID, followed by FIPS country ID\n",
      "ST = State for US stations\n",
      "CALL = ICAO call sign\n",
      "LAT = Latitude in thousandths of decimal degrees\n",
      "LON = Longitude in thousandths of decimal degrees\n",
      "ELEV = Elevation in tenths of meters\n",
      "\n",
      "Notes:\n",
      "- Missing station name, etc indicate the metadata are not currently available.\n",
      "- The term \"bogus\" indicates that the station name, etc are not available.\n",
      "- For a small % of the station entries in this list, climatic data are not\n",
      "  available. These issues will be addressed. To determine data availability\n",
      "  for each location, see the 'ish-inventory.txt' or 'ish-inventory.csv' file.\n"
     ]
    },
    {
     "cell_type": "code",
     "collapsed": false,
     "input": [
      "sqlcommand  = 'CREATE TABLE station '\n",
      "sqlcommand += '( USAF VARCHAR(6) PRIMARY KEY, WBAN VARCHAR(6), '\n",
      "sqlcommand += '  station_name VARCHAR(30), CTRY VARCHAR(2), FIPS_ID VARCHAR(2), ST VARCHAR(2), callid VARCHAR(4), '\n",
      "sqlcommand += '  lat INT, lon INT, elev INT ) '\n",
      "sqlcommand += ';'\n",
      "o,e = sshCommandWait('mysql -e \"' + sqlcommand + '\" -u root --password=' + mysqlPass + ' weather')"
     ],
     "language": "python",
     "metadata": {},
     "outputs": [],
     "prompt_number": 26
    },
    {
     "cell_type": "code",
     "collapsed": false,
     "input": [
      "sqlcommand = 'DESCRIBE station;'\n",
      "o,e = sshCommandWait('mysql -e \"' + sqlcommand + '\" -u root --password=' + mysqlPass + ' weather', True)\n",
      "o"
     ],
     "language": "python",
     "metadata": {},
     "outputs": [
      {
       "html": [
        "<div style=\"max-height:1000px;max-width:1500px;overflow:auto;\">\n",
        "<table border=\"1\" class=\"dataframe\">\n",
        "  <thead>\n",
        "    <tr style=\"text-align: right;\">\n",
        "      <th></th>\n",
        "      <th>Field</th>\n",
        "      <th>Type</th>\n",
        "      <th>Null</th>\n",
        "      <th>Key</th>\n",
        "      <th>Default</th>\n",
        "      <th>Extra</th>\n",
        "    </tr>\n",
        "  </thead>\n",
        "  <tbody>\n",
        "    <tr>\n",
        "      <th>0</th>\n",
        "      <td>         USAF</td>\n",
        "      <td>  varchar(6)</td>\n",
        "      <td>  NO</td>\n",
        "      <td> PRI</td>\n",
        "      <td> NULL</td>\n",
        "      <td> </td>\n",
        "    </tr>\n",
        "    <tr>\n",
        "      <th>1</th>\n",
        "      <td>         WBAN</td>\n",
        "      <td>  varchar(6)</td>\n",
        "      <td> YES</td>\n",
        "      <td>    </td>\n",
        "      <td> NULL</td>\n",
        "      <td> </td>\n",
        "    </tr>\n",
        "    <tr>\n",
        "      <th>2</th>\n",
        "      <td> station_name</td>\n",
        "      <td> varchar(30)</td>\n",
        "      <td> YES</td>\n",
        "      <td>    </td>\n",
        "      <td> NULL</td>\n",
        "      <td> </td>\n",
        "    </tr>\n",
        "    <tr>\n",
        "      <th>3</th>\n",
        "      <td>         CTRY</td>\n",
        "      <td>  varchar(2)</td>\n",
        "      <td> YES</td>\n",
        "      <td>    </td>\n",
        "      <td> NULL</td>\n",
        "      <td> </td>\n",
        "    </tr>\n",
        "    <tr>\n",
        "      <th>4</th>\n",
        "      <td>      FIPS_ID</td>\n",
        "      <td>  varchar(2)</td>\n",
        "      <td> YES</td>\n",
        "      <td>    </td>\n",
        "      <td> NULL</td>\n",
        "      <td> </td>\n",
        "    </tr>\n",
        "    <tr>\n",
        "      <th>5</th>\n",
        "      <td>           ST</td>\n",
        "      <td>  varchar(2)</td>\n",
        "      <td> YES</td>\n",
        "      <td>    </td>\n",
        "      <td> NULL</td>\n",
        "      <td> </td>\n",
        "    </tr>\n",
        "    <tr>\n",
        "      <th>6</th>\n",
        "      <td>       callid</td>\n",
        "      <td>  varchar(4)</td>\n",
        "      <td> YES</td>\n",
        "      <td>    </td>\n",
        "      <td> NULL</td>\n",
        "      <td> </td>\n",
        "    </tr>\n",
        "    <tr>\n",
        "      <th>7</th>\n",
        "      <td>          lat</td>\n",
        "      <td>     int(11)</td>\n",
        "      <td> YES</td>\n",
        "      <td>    </td>\n",
        "      <td> NULL</td>\n",
        "      <td> </td>\n",
        "    </tr>\n",
        "    <tr>\n",
        "      <th>8</th>\n",
        "      <td>          lon</td>\n",
        "      <td>     int(11)</td>\n",
        "      <td> YES</td>\n",
        "      <td>    </td>\n",
        "      <td> NULL</td>\n",
        "      <td> </td>\n",
        "    </tr>\n",
        "    <tr>\n",
        "      <th>9</th>\n",
        "      <td>         elev</td>\n",
        "      <td>     int(11)</td>\n",
        "      <td> YES</td>\n",
        "      <td>    </td>\n",
        "      <td> NULL</td>\n",
        "      <td> </td>\n",
        "    </tr>\n",
        "  </tbody>\n",
        "</table>\n",
        "</div>"
       ],
       "metadata": {},
       "output_type": "pyout",
       "prompt_number": 27,
       "text": [
        "          Field         Type Null  Key Default Extra\n",
        "0          USAF   varchar(6)   NO  PRI    NULL      \n",
        "1          WBAN   varchar(6)  YES         NULL      \n",
        "2  station_name  varchar(30)  YES         NULL      \n",
        "3          CTRY   varchar(2)  YES         NULL      \n",
        "4       FIPS_ID   varchar(2)  YES         NULL      \n",
        "5            ST   varchar(2)  YES         NULL      \n",
        "6        callid   varchar(4)  YES         NULL      \n",
        "7           lat      int(11)  YES         NULL      \n",
        "8           lon      int(11)  YES         NULL      \n",
        "9          elev      int(11)  YES         NULL      "
       ]
      }
     ],
     "prompt_number": 27
    },
    {
     "cell_type": "heading",
     "level": 6,
     "metadata": {},
     "source": [
      "observation"
     ]
    },
    {
     "cell_type": "markdown",
     "metadata": {},
     "source": [
      "Following is the data format:\n",
      "\n",
      "First record--header record.\n",
      "All ensuing records--data records as described below.\n",
      "All 9's in a field (e.g., 99.99 for PRCP) indicates no report or\n",
      "insufficient data.\n",
      "\n",
      "FIELD   POSITION  TYPE   DESCRIPTION\n",
      "\n",
      "STN---  1-6       Int.   Station number (WMO/DATSAV3 number)\n",
      "                         for the location.\n",
      "\n",
      "WBAN    8-12      Int.   WBAN number where applicable--this is the\n",
      "                         historical \"Weather Bureau Air Force Navy\"\n",
      "                         number - with WBAN being the acronym.\n",
      "\n",
      "YEAR    15-18     Int.   The year.\n",
      "\n",
      "MODA    19-22     Int.   The month and day.\n",
      "\n",
      "TEMP    25-30     Real   Mean temperature for the day in degrees\n",
      "                         Fahrenheit to tenths.  Missing = 9999.9\n",
      "                         (Celsius to tenths for metric version.)\n",
      "\n",
      "Count   32-33     Int.   Number of observations used in\n",
      "                         calculating mean temperature.\n",
      "\n",
      "DEWP    36-41     Real   Mean dew point for the day in degrees\n",
      "                         Fahrenheit to tenths.  Missing = 9999.9\n",
      "                         (Celsius to tenths for metric version.)\n",
      "Count   43-44     Int.   Number of observations used in\n",
      "                         calculating mean dew point.\n",
      "\n",
      "SLP     47-52     Real   Mean sea level pressure for the day\n",
      "                         in millibars to tenths.  Missing =\n",
      "                         9999.9\n",
      "Count   54-55     Int.   Number of observations used in\n",
      "                         calculating mean sea level pressure.\n",
      "\n",
      "STP     58-63     Real   Mean station pressure for the day\n",
      "                         in millibars to tenths.  Missing =\n",
      "                         9999.9\n",
      "Count   65-66     Int.   Number of observations used in\n",
      "                         calculating mean station pressure.\n",
      "\n",
      "VISIB   69-73     Real   Mean visibility for the day in miles\n",
      "                         to tenths.  Missing = 999.9\n",
      "                         (Kilometers to tenths for metric version.)\n",
      "Count   75-76     Int.   Number of observations used in\n",
      "                         calculating mean visibility.\n",
      "\n",
      "WDSP    79-83     Real   Mean wind speed for the day in knots\n",
      "                         to tenths.  Missing = 999.9\n",
      "                         (Meters/second to tenths for metric version.)\n",
      "Count   85-86     Int.   Number of observations used in\n",
      "                         calculating mean wind speed.\n",
      "\n",
      "MXSPD   89-93     Real   Maximum sustained wind speed reported\n",
      "                         for the day in knots to tenths.\n",
      "                         Missing = 999.9\n",
      "                         (Meters/second to tenths for metric version.)\n",
      "\n",
      "GUST    96-100    Real   Maximum wind gust reported for the day\n",
      "                         in knots to tenths.  Missing = 999.9\n",
      "                         (Meters/second to tenths for metric version.)\n",
      "\n",
      "MAX     103-108   Real   Maximum temperature reported during the\n",
      "                         day in Fahrenheit to tenths--time of max\n",
      "                         temp report varies by country and\n",
      "                         region, so this will sometimes not be\n",
      "                         the max for the calendar day.  Missing =\n",
      "                         9999.9\n",
      "                         (Celsius to tenths for metric version.)\n",
      "Flag    109-109   Char   Blank indicates max temp was taken from the\n",
      "                         explicit max temp report and not from the\n",
      "                         'hourly' data.  * indicates max temp was\n",
      "                         derived from the hourly data (i.e., highest\n",
      "                         hourly or synoptic-reported temperature).\n",
      "\n",
      "MIN     111-116   Real   Minimum temperature reported during the\n",
      "                         day in Fahrenheit to tenths--time of min\n",
      "                         temp report varies by country and\n",
      "                         region, so this will sometimes not be\n",
      "                         the min for the calendar day.  Missing =\n",
      "                         9999.9\n",
      "                         (Celsius to tenths for metric version.)\n",
      "Flag    117-117   Char   Blank indicates min temp was taken from the\n",
      "                         explicit min temp report and not from the\n",
      "                         'hourly' data.  * indicates min temp was\n",
      "                         derived from the hourly data (i.e., lowest\n",
      "                         hourly or synoptic-reported temperature).\n",
      "\n",
      "PRCP    119-123   Real   Total precipitation (rain and/or melted\n",
      "                         snow) reported during the day in inches\n",
      "                         and hundredths; will usually not end\n",
      "                         with the midnight observation--i.e.,\n",
      "                         may include latter part of previous day.\n",
      "                         .00 indicates no measurable\n",
      "                         precipitation (includes a trace).\n",
      "                         Missing = 99.99\n",
      "                         (For metric version, units = millimeters\n",
      "                         to tenths & missing = 999.9.)\n",
      "                         Note:  Many stations do not report '0' on\n",
      "                         days with no precipitation--therefore,\n",
      "                         '99.99' will often appear on these days.\n",
      "                         Also, for example, a station may only\n",
      "                         report a 6-hour amount for the period\n",
      "                         during which rain fell.\n",
      "                         See Flag field for source of data.\n",
      "Flag    124-124   Char   A = 1 report of 6-hour precipitation\n",
      "                             amount.\n",
      "                         B = Summation of 2 reports of 6-hour\n",
      "                             precipitation amount.\n",
      "                         C = Summation of 3 reports of 6-hour\n",
      "                             precipitation amount.\n",
      "                         D = Summation of 4 reports of 6-hour\n",
      "                             precipitation amount.\n",
      "                         E = 1 report of 12-hour precipitation\n",
      "                             amount.\n",
      "                         F = Summation of 2 reports of 12-hour\n",
      "                             precipitation amount.\n",
      "                         G = 1 report of 24-hour precipitation\n",
      "                             amount.\n",
      "                         H = Station reported '0' as the amount\n",
      "                             for the day (eg, from 6-hour reports),\n",
      "                             but also reported at least one\n",
      "                             occurrence of precipitation in hourly\n",
      "                             observations--this could indicate a\n",
      "                             trace occurred, but should be considered\n",
      "                             as incomplete data for the day.\n",
      "                         I = Station did not report any precip data\n",
      "                             for the day and did not report any\n",
      "                             occurrences of precipitation in its hourly\n",
      "                             observations--it's still possible that\n",
      "                             precip occurred but was not reported.\n",
      "\n",
      "SNDP    126-130   Real   Snow depth in inches to tenths--last\n",
      "                         report for the day if reported more than\n",
      "                         once.  Missing = 999.9\n",
      "                         (Centimeters to tenths for metric version.)\n",
      "                         Note:  Most stations do not report '0' on\n",
      "                         days with no snow on the ground--therefore,\n",
      "                         '999.9' will often appear on these days.\n",
      "\n",
      "FRSHTT  133-138   Int.   Indicators (1 = yes, 0 = no/not\n",
      "                         reported) for the occurrence during the\n",
      "                         day of:\n",
      "                         Fog ('F' - 1st digit).\n",
      "                         Rain or Drizzle ('R' - 2nd digit).\n",
      "                         Snow or Ice Pellets ('S' - 3rd digit).\n",
      "                         Hail ('H' - 4th digit).\n",
      "                         Thunder ('T' - 5th digit).\n",
      "                         Tornado or Funnel Cloud ('T' - 6th\n",
      "                         digit).\n"
     ]
    },
    {
     "cell_type": "code",
     "collapsed": false,
     "input": [
      "sqlcommand  = 'CREATE TABLE observation '\n",
      "sqlcommand += '( STNYMD VARCHAR(14) PRIMARY KEY, '\n",
      "sqlcommand += '  STN VARCHAR(6), WBAN VARCHAR(6), year INT, month INT, day INT, '\n",
      "sqlcommand += '  temp INT, dewp INT, slp INT, stp INT, visib INT, '\n",
      "sqlcommand += '  wdsp INT, mxspd INT, gust INT, maxtemp INT, mintemp INT, '\n",
      "sqlcommand += '  prcp INT, sndp INT, FRSHTT VARCHAR(6) ) '\n",
      "sqlcommand += ';'\n",
      "o,e = sshCommandWait('mysql -e \"' + sqlcommand + '\" -u root --password=' + mysqlPass + ' weather')"
     ],
     "language": "python",
     "metadata": {},
     "outputs": [],
     "prompt_number": 28
    },
    {
     "cell_type": "code",
     "collapsed": false,
     "input": [
      "sqlcommand = 'DESCRIBE observation;'\n",
      "o,e = sshCommandWait('mysql -e \"' + sqlcommand + '\" -u root --password=' + mysqlPass + ' weather', True)\n",
      "o"
     ],
     "language": "python",
     "metadata": {},
     "outputs": [
      {
       "html": [
        "<div style=\"max-height:1000px;max-width:1500px;overflow:auto;\">\n",
        "<table border=\"1\" class=\"dataframe\">\n",
        "  <thead>\n",
        "    <tr style=\"text-align: right;\">\n",
        "      <th></th>\n",
        "      <th>Field</th>\n",
        "      <th>Type</th>\n",
        "      <th>Null</th>\n",
        "      <th>Key</th>\n",
        "      <th>Default</th>\n",
        "      <th>Extra</th>\n",
        "    </tr>\n",
        "  </thead>\n",
        "  <tbody>\n",
        "    <tr>\n",
        "      <th>0 </th>\n",
        "      <td>  STNYMD</td>\n",
        "      <td> varchar(14)</td>\n",
        "      <td>  NO</td>\n",
        "      <td> PRI</td>\n",
        "      <td> NULL</td>\n",
        "      <td> </td>\n",
        "    </tr>\n",
        "    <tr>\n",
        "      <th>1 </th>\n",
        "      <td>     STN</td>\n",
        "      <td>  varchar(6)</td>\n",
        "      <td> YES</td>\n",
        "      <td>    </td>\n",
        "      <td> NULL</td>\n",
        "      <td> </td>\n",
        "    </tr>\n",
        "    <tr>\n",
        "      <th>2 </th>\n",
        "      <td>    WBAN</td>\n",
        "      <td>  varchar(6)</td>\n",
        "      <td> YES</td>\n",
        "      <td>    </td>\n",
        "      <td> NULL</td>\n",
        "      <td> </td>\n",
        "    </tr>\n",
        "    <tr>\n",
        "      <th>3 </th>\n",
        "      <td>    year</td>\n",
        "      <td>     int(11)</td>\n",
        "      <td> YES</td>\n",
        "      <td>    </td>\n",
        "      <td> NULL</td>\n",
        "      <td> </td>\n",
        "    </tr>\n",
        "    <tr>\n",
        "      <th>4 </th>\n",
        "      <td>   month</td>\n",
        "      <td>     int(11)</td>\n",
        "      <td> YES</td>\n",
        "      <td>    </td>\n",
        "      <td> NULL</td>\n",
        "      <td> </td>\n",
        "    </tr>\n",
        "    <tr>\n",
        "      <th>5 </th>\n",
        "      <td>     day</td>\n",
        "      <td>     int(11)</td>\n",
        "      <td> YES</td>\n",
        "      <td>    </td>\n",
        "      <td> NULL</td>\n",
        "      <td> </td>\n",
        "    </tr>\n",
        "    <tr>\n",
        "      <th>6 </th>\n",
        "      <td>    temp</td>\n",
        "      <td>     int(11)</td>\n",
        "      <td> YES</td>\n",
        "      <td>    </td>\n",
        "      <td> NULL</td>\n",
        "      <td> </td>\n",
        "    </tr>\n",
        "    <tr>\n",
        "      <th>7 </th>\n",
        "      <td>    dewp</td>\n",
        "      <td>     int(11)</td>\n",
        "      <td> YES</td>\n",
        "      <td>    </td>\n",
        "      <td> NULL</td>\n",
        "      <td> </td>\n",
        "    </tr>\n",
        "    <tr>\n",
        "      <th>8 </th>\n",
        "      <td>     slp</td>\n",
        "      <td>     int(11)</td>\n",
        "      <td> YES</td>\n",
        "      <td>    </td>\n",
        "      <td> NULL</td>\n",
        "      <td> </td>\n",
        "    </tr>\n",
        "    <tr>\n",
        "      <th>9 </th>\n",
        "      <td>     stp</td>\n",
        "      <td>     int(11)</td>\n",
        "      <td> YES</td>\n",
        "      <td>    </td>\n",
        "      <td> NULL</td>\n",
        "      <td> </td>\n",
        "    </tr>\n",
        "    <tr>\n",
        "      <th>10</th>\n",
        "      <td>   visib</td>\n",
        "      <td>     int(11)</td>\n",
        "      <td> YES</td>\n",
        "      <td>    </td>\n",
        "      <td> NULL</td>\n",
        "      <td> </td>\n",
        "    </tr>\n",
        "    <tr>\n",
        "      <th>11</th>\n",
        "      <td>    wdsp</td>\n",
        "      <td>     int(11)</td>\n",
        "      <td> YES</td>\n",
        "      <td>    </td>\n",
        "      <td> NULL</td>\n",
        "      <td> </td>\n",
        "    </tr>\n",
        "    <tr>\n",
        "      <th>12</th>\n",
        "      <td>   mxspd</td>\n",
        "      <td>     int(11)</td>\n",
        "      <td> YES</td>\n",
        "      <td>    </td>\n",
        "      <td> NULL</td>\n",
        "      <td> </td>\n",
        "    </tr>\n",
        "    <tr>\n",
        "      <th>13</th>\n",
        "      <td>    gust</td>\n",
        "      <td>     int(11)</td>\n",
        "      <td> YES</td>\n",
        "      <td>    </td>\n",
        "      <td> NULL</td>\n",
        "      <td> </td>\n",
        "    </tr>\n",
        "    <tr>\n",
        "      <th>14</th>\n",
        "      <td> maxtemp</td>\n",
        "      <td>     int(11)</td>\n",
        "      <td> YES</td>\n",
        "      <td>    </td>\n",
        "      <td> NULL</td>\n",
        "      <td> </td>\n",
        "    </tr>\n",
        "    <tr>\n",
        "      <th>15</th>\n",
        "      <td> mintemp</td>\n",
        "      <td>     int(11)</td>\n",
        "      <td> YES</td>\n",
        "      <td>    </td>\n",
        "      <td> NULL</td>\n",
        "      <td> </td>\n",
        "    </tr>\n",
        "    <tr>\n",
        "      <th>16</th>\n",
        "      <td>    prcp</td>\n",
        "      <td>     int(11)</td>\n",
        "      <td> YES</td>\n",
        "      <td>    </td>\n",
        "      <td> NULL</td>\n",
        "      <td> </td>\n",
        "    </tr>\n",
        "    <tr>\n",
        "      <th>17</th>\n",
        "      <td>    sndp</td>\n",
        "      <td>     int(11)</td>\n",
        "      <td> YES</td>\n",
        "      <td>    </td>\n",
        "      <td> NULL</td>\n",
        "      <td> </td>\n",
        "    </tr>\n",
        "    <tr>\n",
        "      <th>18</th>\n",
        "      <td>  FRSHTT</td>\n",
        "      <td>  varchar(6)</td>\n",
        "      <td> YES</td>\n",
        "      <td>    </td>\n",
        "      <td> NULL</td>\n",
        "      <td> </td>\n",
        "    </tr>\n",
        "  </tbody>\n",
        "</table>\n",
        "</div>"
       ],
       "metadata": {},
       "output_type": "pyout",
       "prompt_number": 29,
       "text": [
        "      Field         Type Null  Key Default Extra\n",
        "0    STNYMD  varchar(14)   NO  PRI    NULL      \n",
        "1       STN   varchar(6)  YES         NULL      \n",
        "2      WBAN   varchar(6)  YES         NULL      \n",
        "3      year      int(11)  YES         NULL      \n",
        "4     month      int(11)  YES         NULL      \n",
        "5       day      int(11)  YES         NULL      \n",
        "6      temp      int(11)  YES         NULL      \n",
        "7      dewp      int(11)  YES         NULL      \n",
        "8       slp      int(11)  YES         NULL      \n",
        "9       stp      int(11)  YES         NULL      \n",
        "10    visib      int(11)  YES         NULL      \n",
        "11     wdsp      int(11)  YES         NULL      \n",
        "12    mxspd      int(11)  YES         NULL      \n",
        "13     gust      int(11)  YES         NULL      \n",
        "14  maxtemp      int(11)  YES         NULL      \n",
        "15  mintemp      int(11)  YES         NULL      \n",
        "16     prcp      int(11)  YES         NULL      \n",
        "17     sndp      int(11)  YES         NULL      \n",
        "18   FRSHTT   varchar(6)  YES         NULL      "
       ]
      }
     ],
     "prompt_number": 29
    },
    {
     "cell_type": "heading",
     "level": 4,
     "metadata": {},
     "source": [
      "Populate Database"
     ]
    },
    {
     "cell_type": "heading",
     "level": 6,
     "metadata": {},
     "source": [
      "country"
     ]
    },
    {
     "cell_type": "code",
     "collapsed": false,
     "input": [
      "sqlcommand  = 'LOAD DATA LOCAL INFILE \\'\\/mnt\\/givenDataVolume\\/country-list.txt\\' '\n",
      "sqlcommand += 'INTO TABLE country '\n",
      "sqlcommand += 'FIELDS TERMINATED BY \\'          \\' '\n",
      "sqlcommand += 'LINES TERMINATED BY \\'\\n\\' '\n",
      "sqlcommand += 'IGNORE 2 LINES '\n",
      "sqlcommand += '; '\n",
      "o,e = sshCommandWait('mysql -e \"' + sqlcommand + '\" -u root --password=' + mysqlPass + ' weather --local-infile')"
     ],
     "language": "python",
     "metadata": {},
     "outputs": [],
     "prompt_number": 30
    },
    {
     "cell_type": "code",
     "collapsed": false,
     "input": [
      "sqlcommand = 'SELECT * FROM country LIMIT 5;'\n",
      "o,e = sshCommandWait('mysql -e \"' + sqlcommand + '\" -u root --password=' + mysqlPass + ' weather', True)\n",
      "o"
     ],
     "language": "python",
     "metadata": {},
     "outputs": [
      {
       "html": [
        "<div style=\"max-height:1000px;max-width:1500px;overflow:auto;\">\n",
        "<table border=\"1\" class=\"dataframe\">\n",
        "  <thead>\n",
        "    <tr style=\"text-align: right;\">\n",
        "      <th></th>\n",
        "      <th>FIPS_ID</th>\n",
        "      <th>country_name</th>\n",
        "    </tr>\n",
        "  </thead>\n",
        "  <tbody>\n",
        "    <tr>\n",
        "      <th>0</th>\n",
        "      <td> AA</td>\n",
        "      <td>               ARUBA</td>\n",
        "    </tr>\n",
        "    <tr>\n",
        "      <th>1</th>\n",
        "      <td> AC</td>\n",
        "      <td> ANTIGUA AND BARBUDA</td>\n",
        "    </tr>\n",
        "    <tr>\n",
        "      <th>2</th>\n",
        "      <td> AF</td>\n",
        "      <td>         AFGHANISTAN</td>\n",
        "    </tr>\n",
        "    <tr>\n",
        "      <th>3</th>\n",
        "      <td> AG</td>\n",
        "      <td>             ALGERIA</td>\n",
        "    </tr>\n",
        "    <tr>\n",
        "      <th>4</th>\n",
        "      <td> AI</td>\n",
        "      <td>    ASCENSION ISLAND</td>\n",
        "    </tr>\n",
        "  </tbody>\n",
        "</table>\n",
        "</div>"
       ],
       "metadata": {},
       "output_type": "pyout",
       "prompt_number": 31,
       "text": [
        "  FIPS_ID         country_name\n",
        "0      AA                ARUBA\n",
        "1      AC  ANTIGUA AND BARBUDA\n",
        "2      AF          AFGHANISTAN\n",
        "3      AG              ALGERIA\n",
        "4      AI     ASCENSION ISLAND"
       ]
      }
     ],
     "prompt_number": 31
    },
    {
     "cell_type": "heading",
     "level": 6,
     "metadata": {},
     "source": [
      "station"
     ]
    },
    {
     "cell_type": "code",
     "collapsed": false,
     "input": [
      "sqlcommand  = 'LOAD DATA LOCAL INFILE \\'\\/mnt\\/givenDataVolume\\/ish-history.csv\\' '\n",
      "sqlcommand += 'INTO TABLE station '\n",
      "sqlcommand += 'FIELDS TERMINATED BY \\',\\' ENCLOSED BY \\'\\\\\"\\''\n",
      "sqlcommand += 'LINES TERMINATED BY \\'\\n\\' '\n",
      "sqlcommand += 'IGNORE 1 LINES '\n",
      "sqlcommand += '; '\n",
      "o,e = sshCommandWait('mysql -e \"' + sqlcommand + '\" -u root --password=' + mysqlPass + ' weather --local-infile')"
     ],
     "language": "python",
     "metadata": {},
     "outputs": [],
     "prompt_number": 32
    },
    {
     "cell_type": "code",
     "collapsed": false,
     "input": [
      "sqlcommand = 'SELECT * FROM station LIMIT 5;'\n",
      "o,e = sshCommandWait('mysql -e \"' + sqlcommand + '\" -u root --password=' + mysqlPass + ' weather', True)\n",
      "o"
     ],
     "language": "python",
     "metadata": {},
     "outputs": [
      {
       "html": [
        "<div style=\"max-height:1000px;max-width:1500px;overflow:auto;\">\n",
        "<table border=\"1\" class=\"dataframe\">\n",
        "  <thead>\n",
        "    <tr style=\"text-align: right;\">\n",
        "      <th></th>\n",
        "      <th>USAF</th>\n",
        "      <th>WBAN</th>\n",
        "      <th>station_name</th>\n",
        "      <th>CTRY</th>\n",
        "      <th>FIPS_ID</th>\n",
        "      <th>ST</th>\n",
        "      <th>callid</th>\n",
        "      <th>lat</th>\n",
        "      <th>lon</th>\n",
        "      <th>elev</th>\n",
        "    </tr>\n",
        "  </thead>\n",
        "  <tbody>\n",
        "    <tr>\n",
        "      <th>0</th>\n",
        "      <td> 000000</td>\n",
        "      <td> 99999</td>\n",
        "      <td>  NYGGBUKTA GREENLAND- STA</td>\n",
        "      <td> GL</td>\n",
        "      <td> GL</td>\n",
        "      <td> </td>\n",
        "      <td> </td>\n",
        "      <td> 73483</td>\n",
        "      <td> 21567</td>\n",
        "      <td>  30</td>\n",
        "    </tr>\n",
        "    <tr>\n",
        "      <th>1</th>\n",
        "      <td> 000010</td>\n",
        "      <td> 99999</td>\n",
        "      <td>                 JAN HAYEN</td>\n",
        "      <td> NO</td>\n",
        "      <td> NO</td>\n",
        "      <td> </td>\n",
        "      <td> </td>\n",
        "      <td> 70983</td>\n",
        "      <td> -7700</td>\n",
        "      <td> 229</td>\n",
        "    </tr>\n",
        "    <tr>\n",
        "      <th>2</th>\n",
        "      <td> 000020</td>\n",
        "      <td> 99999</td>\n",
        "      <td> ISFJORD RADIO SPITZBERGEN</td>\n",
        "      <td> NO</td>\n",
        "      <td> NO</td>\n",
        "      <td> </td>\n",
        "      <td> </td>\n",
        "      <td> 78067</td>\n",
        "      <td> 13633</td>\n",
        "      <td>  79</td>\n",
        "    </tr>\n",
        "    <tr>\n",
        "      <th>3</th>\n",
        "      <td> 000030</td>\n",
        "      <td> 99999</td>\n",
        "      <td>      BJORNOYA BARENTS SEA</td>\n",
        "      <td> NO</td>\n",
        "      <td> NO</td>\n",
        "      <td> </td>\n",
        "      <td> </td>\n",
        "      <td> 74467</td>\n",
        "      <td> 19283</td>\n",
        "      <td> 290</td>\n",
        "    </tr>\n",
        "    <tr>\n",
        "      <th>4</th>\n",
        "      <td> 000040</td>\n",
        "      <td> 99999</td>\n",
        "      <td>                     VAROO</td>\n",
        "      <td> NO</td>\n",
        "      <td> NO</td>\n",
        "      <td> </td>\n",
        "      <td> </td>\n",
        "      <td> 70367</td>\n",
        "      <td> 31100</td>\n",
        "      <td> 119</td>\n",
        "    </tr>\n",
        "  </tbody>\n",
        "</table>\n",
        "</div>"
       ],
       "metadata": {},
       "output_type": "pyout",
       "prompt_number": 33,
       "text": [
        "     USAF   WBAN               station_name CTRY FIPS_ID ST callid    lat  \\\n",
        "0  000000  99999   NYGGBUKTA GREENLAND- STA   GL      GL            73483   \n",
        "1  000010  99999                  JAN HAYEN   NO      NO            70983   \n",
        "2  000020  99999  ISFJORD RADIO SPITZBERGEN   NO      NO            78067   \n",
        "3  000030  99999       BJORNOYA BARENTS SEA   NO      NO            74467   \n",
        "4  000040  99999                      VAROO   NO      NO            70367   \n",
        "\n",
        "     lon elev  \n",
        "0  21567   30  \n",
        "1  -7700  229  \n",
        "2  13633   79  \n",
        "3  19283  290  \n",
        "4  31100  119  "
       ]
      }
     ],
     "prompt_number": 33
    },
    {
     "cell_type": "heading",
     "level": 6,
     "metadata": {},
     "source": [
      "observation"
     ]
    },
    {
     "cell_type": "markdown",
     "metadata": {},
     "source": [
      "The files are in fixed-width format, which LOAD DATA doesn't like. And they have some extra bits we don't want. So let's process each file first in python to make a csv file in the form we want, then upload it to the data table.\n",
      "\n",
      "Also the data is stored in multiple files in multiple folders:\n",
      "\n",
      "gsod/[year]/[filename_by_station_ID]\n",
      "\n",
      "in some cases with .op as file extension, sometimes with no file extension.\n",
      "\n",
      "And because it runs much faster locally, will send the python file populateDB.py (contents copied below) to the EC2 instance and run it from there."
     ]
    },
    {
     "cell_type": "markdown",
     "metadata": {},
     "source": []
    },
    {
     "cell_type": "code",
     "collapsed": false,
     "input": [
      "sftpSendFile('populateDB.py','populateDB.py')"
     ],
     "language": "python",
     "metadata": {},
     "outputs": [],
     "prompt_number": 34
    },
    {
     "cell_type": "markdown",
     "metadata": {},
     "source": [
      "Now to run it there. This process may take 5-6 hours. Nohup and output redirection are used to allow the process to run entirely independently of this connection to it."
     ]
    },
    {
     "cell_type": "code",
     "collapsed": false,
     "input": [
      "sshCommandNoWait('sudo nohup python populateDB.py ' + mysqlPass + ' > proc.out 2> proc.err < /dev/null &')"
     ],
     "language": "python",
     "metadata": {},
     "outputs": [],
     "prompt_number": 35
    },
    {
     "cell_type": "code",
     "collapsed": false,
     "input": [
      "fileReady = False\n",
      "fillTime = 0\n",
      "while not fileReady:\n",
      "    fileReady = sftpGetFile('end.txt','test.txt')\n",
      "    if not fileReady:\n",
      "        time.sleep(60)\n",
      "        fillTime += 1\n",
      "        if fillTime > 100*60:\n",
      "            break\n",
      "print fillTime"
     ],
     "language": "python",
     "metadata": {},
     "outputs": [
      {
       "output_type": "stream",
       "stream": "stdout",
       "text": [
        "203\n"
       ]
      }
     ],
     "prompt_number": 36
    },
    {
     "cell_type": "markdown",
     "metadata": {},
     "source": [
      "Quick test to make sure it works"
     ]
    },
    {
     "cell_type": "code",
     "collapsed": false,
     "input": [
      "sqlcommand = 'SELECT * FROM observation LIMIT 5;'\n",
      "o,e = sshCommandWait('mysql -e \"' + sqlcommand + '\" -u root --password=' + mysqlPass + ' weather', True)\n",
      "o"
     ],
     "language": "python",
     "metadata": {},
     "outputs": [
      {
       "html": [
        "<div style=\"max-height:1000px;max-width:1500px;overflow:auto;\">\n",
        "<table border=\"1\" class=\"dataframe\">\n",
        "  <thead>\n",
        "    <tr style=\"text-align: right;\">\n",
        "      <th></th>\n",
        "      <th>STNYMD</th>\n",
        "      <th>STN</th>\n",
        "      <th>WBAN</th>\n",
        "      <th>year</th>\n",
        "      <th>month</th>\n",
        "      <th>day</th>\n",
        "      <th>temp</th>\n",
        "      <th>dewp</th>\n",
        "      <th>slp</th>\n",
        "      <th>stp</th>\n",
        "      <th>visib</th>\n",
        "      <th>wdsp</th>\n",
        "      <th>mxspd</th>\n",
        "      <th>gust</th>\n",
        "      <th>maxtemp</th>\n",
        "      <th>mintemp</th>\n",
        "      <th>prcp</th>\n",
        "      <th>sndp</th>\n",
        "      <th>FRSHTT</th>\n",
        "    </tr>\n",
        "  </thead>\n",
        "  <tbody>\n",
        "    <tr>\n",
        "      <th>0</th>\n",
        "      <td> 00820920090309</td>\n",
        "      <td> 008209</td>\n",
        "      <td> 99999</td>\n",
        "      <td> 2009</td>\n",
        "      <td> 3</td>\n",
        "      <td>  9</td>\n",
        "      <td> 782</td>\n",
        "      <td> 710</td>\n",
        "      <td> 99999</td>\n",
        "      <td> 99999</td>\n",
        "      <td> 9999</td>\n",
        "      <td> 13</td>\n",
        "      <td> 19</td>\n",
        "      <td> 9999</td>\n",
        "      <td> 806</td>\n",
        "      <td> 716</td>\n",
        "      <td> 0</td>\n",
        "      <td> 9999</td>\n",
        "      <td> 000000</td>\n",
        "    </tr>\n",
        "    <tr>\n",
        "      <th>1</th>\n",
        "      <td> 00820920090310</td>\n",
        "      <td> 008209</td>\n",
        "      <td> 99999</td>\n",
        "      <td> 2009</td>\n",
        "      <td> 3</td>\n",
        "      <td> 10</td>\n",
        "      <td> 678</td>\n",
        "      <td> 656</td>\n",
        "      <td> 99999</td>\n",
        "      <td> 99999</td>\n",
        "      <td> 9999</td>\n",
        "      <td> 12</td>\n",
        "      <td> 41</td>\n",
        "      <td> 9999</td>\n",
        "      <td> 806</td>\n",
        "      <td> 554</td>\n",
        "      <td> 0</td>\n",
        "      <td> 9999</td>\n",
        "      <td> 000000</td>\n",
        "    </tr>\n",
        "    <tr>\n",
        "      <th>2</th>\n",
        "      <td> 00820920090311</td>\n",
        "      <td> 008209</td>\n",
        "      <td> 99999</td>\n",
        "      <td> 2009</td>\n",
        "      <td> 3</td>\n",
        "      <td> 11</td>\n",
        "      <td> 681</td>\n",
        "      <td> 646</td>\n",
        "      <td> 99999</td>\n",
        "      <td> 99999</td>\n",
        "      <td> 9999</td>\n",
        "      <td> 13</td>\n",
        "      <td> 29</td>\n",
        "      <td> 9999</td>\n",
        "      <td> 824</td>\n",
        "      <td> 554</td>\n",
        "      <td> 0</td>\n",
        "      <td> 9999</td>\n",
        "      <td> 000000</td>\n",
        "    </tr>\n",
        "    <tr>\n",
        "      <th>3</th>\n",
        "      <td> 00820920090312</td>\n",
        "      <td> 008209</td>\n",
        "      <td> 99999</td>\n",
        "      <td> 2009</td>\n",
        "      <td> 3</td>\n",
        "      <td> 12</td>\n",
        "      <td> 666</td>\n",
        "      <td> 639</td>\n",
        "      <td> 99999</td>\n",
        "      <td> 99999</td>\n",
        "      <td> 9999</td>\n",
        "      <td> 12</td>\n",
        "      <td> 41</td>\n",
        "      <td> 9999</td>\n",
        "      <td> 806</td>\n",
        "      <td> 572</td>\n",
        "      <td> 0</td>\n",
        "      <td> 9999</td>\n",
        "      <td> 000000</td>\n",
        "    </tr>\n",
        "    <tr>\n",
        "      <th>4</th>\n",
        "      <td> 00820920090313</td>\n",
        "      <td> 008209</td>\n",
        "      <td> 99999</td>\n",
        "      <td> 2009</td>\n",
        "      <td> 3</td>\n",
        "      <td> 13</td>\n",
        "      <td> 669</td>\n",
        "      <td> 622</td>\n",
        "      <td> 99999</td>\n",
        "      <td> 99999</td>\n",
        "      <td> 9999</td>\n",
        "      <td> 13</td>\n",
        "      <td> 41</td>\n",
        "      <td> 9999</td>\n",
        "      <td> 806</td>\n",
        "      <td> 554</td>\n",
        "      <td> 0</td>\n",
        "      <td> 9999</td>\n",
        "      <td> 000000</td>\n",
        "    </tr>\n",
        "  </tbody>\n",
        "</table>\n",
        "</div>"
       ],
       "metadata": {},
       "output_type": "pyout",
       "prompt_number": 37,
       "text": [
        "           STNYMD     STN   WBAN  year month day temp dewp    slp    stp  \\\n",
        "0  00820920090309  008209  99999  2009     3   9  782  710  99999  99999   \n",
        "1  00820920090310  008209  99999  2009     3  10  678  656  99999  99999   \n",
        "2  00820920090311  008209  99999  2009     3  11  681  646  99999  99999   \n",
        "3  00820920090312  008209  99999  2009     3  12  666  639  99999  99999   \n",
        "4  00820920090313  008209  99999  2009     3  13  669  622  99999  99999   \n",
        "\n",
        "  visib wdsp mxspd  gust maxtemp mintemp prcp  sndp  FRSHTT  \n",
        "0  9999   13    19  9999     806     716    0  9999  000000  \n",
        "1  9999   12    41  9999     806     554    0  9999  000000  \n",
        "2  9999   13    29  9999     824     554    0  9999  000000  \n",
        "3  9999   12    41  9999     806     572    0  9999  000000  \n",
        "4  9999   13    41  9999     806     554    0  9999  000000  "
       ]
      }
     ],
     "prompt_number": 37
    },
    {
     "cell_type": "markdown",
     "metadata": {},
     "source": [
      "table size, etc - roughly 109,880,661 rows?"
     ]
    },
    {
     "cell_type": "code",
     "collapsed": false,
     "input": [
      "sqlcommand = \"SHOW TABLE STATUS LIKE 'observation';\"\n",
      "o,e = sshCommandWait('mysql -e \"' + sqlcommand + '\" -u root --password=' + mysqlPass + ' weather')\n",
      "o"
     ],
     "language": "python",
     "metadata": {},
     "outputs": [
      {
       "metadata": {},
       "output_type": "pyout",
       "prompt_number": 38,
       "text": [
        "[u'Name\\tEngine\\tVersion\\tRow_format\\tRows\\tAvg_row_length\\tData_length\\tMax_data_length\\tIndex_length\\tData_free\\tAuto_increment\\tCreate_time\\tUpdate_time\\tCheck_time\\tCollation\\tChecksum\\tCreate_options\\tComment\\n',\n",
        " u'observation\\tInnoDB\\t10\\tCompact\\t109880661\\t145\\t15998124032\\t0\\t0\\t7340032\\tNULL\\t2015-03-24 02:27:57\\tNULL\\tNULL\\tlatin1_swedish_ci\\tNULL\\t\\t\\n']"
       ]
      }
     ],
     "prompt_number": 38
    },
    {
     "cell_type": "markdown",
     "metadata": {},
     "source": [
      "memory usage"
     ]
    },
    {
     "cell_type": "code",
     "collapsed": false,
     "input": [
      "o,e = sshCommandWait('df -h')\n",
      "o"
     ],
     "language": "python",
     "metadata": {},
     "outputs": [
      {
       "metadata": {},
       "output_type": "pyout",
       "prompt_number": 39,
       "text": [
        "[u'Filesystem      Size  Used Avail Use% Mounted on\\n',\n",
        " u'/dev/xvda1      7.8G  1.4G  6.4G  18% /\\n',\n",
        " u'devtmpfs        7.5G   64K  7.5G   1% /dev\\n',\n",
        " u'tmpfs           7.5G     0  7.5G   0% /dev/shm\\n',\n",
        " u'/dev/xvdb        20G   17G  2.3G  88% /mnt/givenDataVolume\\n',\n",
        " u'/dev/xvdc        99G   16G   79G  17% /mnt/mysqlVolume\\n']"
       ]
      }
     ],
     "prompt_number": 39
    },
    {
     "cell_type": "heading",
     "level": 4,
     "metadata": {},
     "source": [
      "Detach and Delete Given Data Volume"
     ]
    },
    {
     "cell_type": "markdown",
     "metadata": {},
     "source": [
      "Since we are not using the given data volume any more (all of the data has been moved to the mysql database), we can detach and delete it."
     ]
    },
    {
     "cell_type": "code",
     "collapsed": false,
     "input": [
      "o,e = sshCommandWait('sudo umount -d /dev/xvdb')"
     ],
     "language": "python",
     "metadata": {},
     "outputs": [],
     "prompt_number": 40
    },
    {
     "cell_type": "code",
     "collapsed": false,
     "input": [
      "givenDataVolume.detach()\n",
      "waitUntilReady(givenDataVolume,'available')\n",
      "givenDataVolume.delete()"
     ],
     "language": "python",
     "metadata": {},
     "outputs": [
      {
       "output_type": "stream",
       "stream": "stdout",
       "text": [
        ".."
       ]
      },
      {
       "output_type": "stream",
       "stream": "stdout",
       "text": [
        ".."
       ]
      },
      {
       "output_type": "stream",
       "stream": "stdout",
       "text": [
        ".."
       ]
      },
      {
       "output_type": "stream",
       "stream": "stdout",
       "text": [
        ".."
       ]
      },
      {
       "metadata": {},
       "output_type": "pyout",
       "prompt_number": 41,
       "text": [
        "True"
       ]
      }
     ],
     "prompt_number": 41
    },
    {
     "cell_type": "heading",
     "level": 4,
     "metadata": {},
     "source": [
      "Configure Indices on Tables"
     ]
    },
    {
     "cell_type": "markdown",
     "metadata": {},
     "source": [
      "Gotta do it."
     ]
    },
    {
     "cell_type": "code",
     "collapsed": false,
     "input": [
      "sqlcommand  = 'ALTER TABLE station '\n",
      "sqlcommand += 'ADD INDEX (FIPS_ID), '\n",
      "sqlcommand += 'ADD INDEX (lat), '\n",
      "sqlcommand += 'ADD INDEX (lon) '\n",
      "sqlcommand += ';'\n",
      "cmd  = 'sudo nohup mysql -e \"' + sqlcommand + '\" -u root --password=' + mysqlPass + ' weather' \n",
      "cmd += ' > proc2.out 2> proc2.err < /dev/null &'\n",
      "sshCommandNoWait(cmd)"
     ],
     "language": "python",
     "metadata": {},
     "outputs": [],
     "prompt_number": 42
    },
    {
     "cell_type": "code",
     "collapsed": false,
     "input": [
      "sqlcommand = 'DESCRIBE station;'\n",
      "o,e = sshCommandWait('mysql -e \"' + sqlcommand + '\" -u root --password=' + mysqlPass + ' weather', True)\n",
      "o"
     ],
     "language": "python",
     "metadata": {},
     "outputs": [
      {
       "html": [
        "<div style=\"max-height:1000px;max-width:1500px;overflow:auto;\">\n",
        "<table border=\"1\" class=\"dataframe\">\n",
        "  <thead>\n",
        "    <tr style=\"text-align: right;\">\n",
        "      <th></th>\n",
        "      <th>Field</th>\n",
        "      <th>Type</th>\n",
        "      <th>Null</th>\n",
        "      <th>Key</th>\n",
        "      <th>Default</th>\n",
        "      <th>Extra</th>\n",
        "    </tr>\n",
        "  </thead>\n",
        "  <tbody>\n",
        "    <tr>\n",
        "      <th>0</th>\n",
        "      <td>         USAF</td>\n",
        "      <td>  varchar(6)</td>\n",
        "      <td>  NO</td>\n",
        "      <td> PRI</td>\n",
        "      <td> NULL</td>\n",
        "      <td> </td>\n",
        "    </tr>\n",
        "    <tr>\n",
        "      <th>1</th>\n",
        "      <td>         WBAN</td>\n",
        "      <td>  varchar(6)</td>\n",
        "      <td> YES</td>\n",
        "      <td>    </td>\n",
        "      <td> NULL</td>\n",
        "      <td> </td>\n",
        "    </tr>\n",
        "    <tr>\n",
        "      <th>2</th>\n",
        "      <td> station_name</td>\n",
        "      <td> varchar(30)</td>\n",
        "      <td> YES</td>\n",
        "      <td>    </td>\n",
        "      <td> NULL</td>\n",
        "      <td> </td>\n",
        "    </tr>\n",
        "    <tr>\n",
        "      <th>3</th>\n",
        "      <td>         CTRY</td>\n",
        "      <td>  varchar(2)</td>\n",
        "      <td> YES</td>\n",
        "      <td>    </td>\n",
        "      <td> NULL</td>\n",
        "      <td> </td>\n",
        "    </tr>\n",
        "    <tr>\n",
        "      <th>4</th>\n",
        "      <td>      FIPS_ID</td>\n",
        "      <td>  varchar(2)</td>\n",
        "      <td> YES</td>\n",
        "      <td> MUL</td>\n",
        "      <td> NULL</td>\n",
        "      <td> </td>\n",
        "    </tr>\n",
        "    <tr>\n",
        "      <th>5</th>\n",
        "      <td>           ST</td>\n",
        "      <td>  varchar(2)</td>\n",
        "      <td> YES</td>\n",
        "      <td>    </td>\n",
        "      <td> NULL</td>\n",
        "      <td> </td>\n",
        "    </tr>\n",
        "    <tr>\n",
        "      <th>6</th>\n",
        "      <td>       callid</td>\n",
        "      <td>  varchar(4)</td>\n",
        "      <td> YES</td>\n",
        "      <td>    </td>\n",
        "      <td> NULL</td>\n",
        "      <td> </td>\n",
        "    </tr>\n",
        "    <tr>\n",
        "      <th>7</th>\n",
        "      <td>          lat</td>\n",
        "      <td>     int(11)</td>\n",
        "      <td> YES</td>\n",
        "      <td> MUL</td>\n",
        "      <td> NULL</td>\n",
        "      <td> </td>\n",
        "    </tr>\n",
        "    <tr>\n",
        "      <th>8</th>\n",
        "      <td>          lon</td>\n",
        "      <td>     int(11)</td>\n",
        "      <td> YES</td>\n",
        "      <td> MUL</td>\n",
        "      <td> NULL</td>\n",
        "      <td> </td>\n",
        "    </tr>\n",
        "    <tr>\n",
        "      <th>9</th>\n",
        "      <td>         elev</td>\n",
        "      <td>     int(11)</td>\n",
        "      <td> YES</td>\n",
        "      <td>    </td>\n",
        "      <td> NULL</td>\n",
        "      <td> </td>\n",
        "    </tr>\n",
        "  </tbody>\n",
        "</table>\n",
        "</div>"
       ],
       "metadata": {},
       "output_type": "pyout",
       "prompt_number": 43,
       "text": [
        "          Field         Type Null  Key Default Extra\n",
        "0          USAF   varchar(6)   NO  PRI    NULL      \n",
        "1          WBAN   varchar(6)  YES         NULL      \n",
        "2  station_name  varchar(30)  YES         NULL      \n",
        "3          CTRY   varchar(2)  YES         NULL      \n",
        "4       FIPS_ID   varchar(2)  YES  MUL    NULL      \n",
        "5            ST   varchar(2)  YES         NULL      \n",
        "6        callid   varchar(4)  YES         NULL      \n",
        "7           lat      int(11)  YES  MUL    NULL      \n",
        "8           lon      int(11)  YES  MUL    NULL      \n",
        "9          elev      int(11)  YES         NULL      "
       ]
      }
     ],
     "prompt_number": 43
    },
    {
     "cell_type": "code",
     "collapsed": false,
     "input": [
      "sqlcommand  = 'ALTER TABLE observation '\n",
      "sqlcommand += 'ADD INDEX (STN), '\n",
      "sqlcommand += 'ADD INDEX (year), '\n",
      "sqlcommand += 'ADD INDEX (month), '\n",
      "sqlcommand += 'ADD INDEX (day), '\n",
      "sqlcommand += 'ADD INDEX (temp), '\n",
      "sqlcommand += 'ADD INDEX (maxtemp), '\n",
      "sqlcommand += 'ADD INDEX (mintemp) '\n",
      "sqlcommand += ';'\n",
      "cmd  = 'sudo time nohup mysql -e \"' + sqlcommand + '\" -u root --password=' + mysqlPass + ' weather' \n",
      "cmd += ' > proc2.out 2> proc2.err < /dev/null &'\n",
      "sshCommandNoWait(cmd)"
     ],
     "language": "python",
     "metadata": {},
     "outputs": [],
     "prompt_number": 44
    },
    {
     "cell_type": "markdown",
     "metadata": {},
     "source": [
      "need to find some clever way of waiting / checking if the index creation process is done. note: at very least, should use \"time\" at start of the cmd"
     ]
    },
    {
     "cell_type": "code",
     "collapsed": false,
     "input": [
      "time.sleep(60*fillTime*2)"
     ],
     "language": "python",
     "metadata": {},
     "outputs": [],
     "prompt_number": 45
    },
    {
     "cell_type": "code",
     "collapsed": false,
     "input": [
      "sqlcommand = 'DESCRIBE observation;'\n",
      "o,e = sshCommandWait('mysql -e \"' + sqlcommand + '\" -u root --password=' + mysqlPass + ' weather', True)\n",
      "o"
     ],
     "language": "python",
     "metadata": {},
     "outputs": [
      {
       "html": [
        "<div style=\"max-height:1000px;max-width:1500px;overflow:auto;\">\n",
        "<table border=\"1\" class=\"dataframe\">\n",
        "  <thead>\n",
        "    <tr style=\"text-align: right;\">\n",
        "      <th></th>\n",
        "      <th>Field</th>\n",
        "      <th>Type</th>\n",
        "      <th>Null</th>\n",
        "      <th>Key</th>\n",
        "      <th>Default</th>\n",
        "      <th>Extra</th>\n",
        "    </tr>\n",
        "  </thead>\n",
        "  <tbody>\n",
        "    <tr>\n",
        "      <th>0 </th>\n",
        "      <td>  STNYMD</td>\n",
        "      <td> varchar(14)</td>\n",
        "      <td>  NO</td>\n",
        "      <td> PRI</td>\n",
        "      <td> NULL</td>\n",
        "      <td> </td>\n",
        "    </tr>\n",
        "    <tr>\n",
        "      <th>1 </th>\n",
        "      <td>     STN</td>\n",
        "      <td>  varchar(6)</td>\n",
        "      <td> YES</td>\n",
        "      <td> MUL</td>\n",
        "      <td> NULL</td>\n",
        "      <td> </td>\n",
        "    </tr>\n",
        "    <tr>\n",
        "      <th>2 </th>\n",
        "      <td>    WBAN</td>\n",
        "      <td>  varchar(6)</td>\n",
        "      <td> YES</td>\n",
        "      <td>    </td>\n",
        "      <td> NULL</td>\n",
        "      <td> </td>\n",
        "    </tr>\n",
        "    <tr>\n",
        "      <th>3 </th>\n",
        "      <td>    year</td>\n",
        "      <td>     int(11)</td>\n",
        "      <td> YES</td>\n",
        "      <td> MUL</td>\n",
        "      <td> NULL</td>\n",
        "      <td> </td>\n",
        "    </tr>\n",
        "    <tr>\n",
        "      <th>4 </th>\n",
        "      <td>   month</td>\n",
        "      <td>     int(11)</td>\n",
        "      <td> YES</td>\n",
        "      <td> MUL</td>\n",
        "      <td> NULL</td>\n",
        "      <td> </td>\n",
        "    </tr>\n",
        "    <tr>\n",
        "      <th>5 </th>\n",
        "      <td>     day</td>\n",
        "      <td>     int(11)</td>\n",
        "      <td> YES</td>\n",
        "      <td> MUL</td>\n",
        "      <td> NULL</td>\n",
        "      <td> </td>\n",
        "    </tr>\n",
        "    <tr>\n",
        "      <th>6 </th>\n",
        "      <td>    temp</td>\n",
        "      <td>     int(11)</td>\n",
        "      <td> YES</td>\n",
        "      <td> MUL</td>\n",
        "      <td> NULL</td>\n",
        "      <td> </td>\n",
        "    </tr>\n",
        "    <tr>\n",
        "      <th>7 </th>\n",
        "      <td>    dewp</td>\n",
        "      <td>     int(11)</td>\n",
        "      <td> YES</td>\n",
        "      <td>    </td>\n",
        "      <td> NULL</td>\n",
        "      <td> </td>\n",
        "    </tr>\n",
        "    <tr>\n",
        "      <th>8 </th>\n",
        "      <td>     slp</td>\n",
        "      <td>     int(11)</td>\n",
        "      <td> YES</td>\n",
        "      <td>    </td>\n",
        "      <td> NULL</td>\n",
        "      <td> </td>\n",
        "    </tr>\n",
        "    <tr>\n",
        "      <th>9 </th>\n",
        "      <td>     stp</td>\n",
        "      <td>     int(11)</td>\n",
        "      <td> YES</td>\n",
        "      <td>    </td>\n",
        "      <td> NULL</td>\n",
        "      <td> </td>\n",
        "    </tr>\n",
        "    <tr>\n",
        "      <th>10</th>\n",
        "      <td>   visib</td>\n",
        "      <td>     int(11)</td>\n",
        "      <td> YES</td>\n",
        "      <td>    </td>\n",
        "      <td> NULL</td>\n",
        "      <td> </td>\n",
        "    </tr>\n",
        "    <tr>\n",
        "      <th>11</th>\n",
        "      <td>    wdsp</td>\n",
        "      <td>     int(11)</td>\n",
        "      <td> YES</td>\n",
        "      <td>    </td>\n",
        "      <td> NULL</td>\n",
        "      <td> </td>\n",
        "    </tr>\n",
        "    <tr>\n",
        "      <th>12</th>\n",
        "      <td>   mxspd</td>\n",
        "      <td>     int(11)</td>\n",
        "      <td> YES</td>\n",
        "      <td>    </td>\n",
        "      <td> NULL</td>\n",
        "      <td> </td>\n",
        "    </tr>\n",
        "    <tr>\n",
        "      <th>13</th>\n",
        "      <td>    gust</td>\n",
        "      <td>     int(11)</td>\n",
        "      <td> YES</td>\n",
        "      <td>    </td>\n",
        "      <td> NULL</td>\n",
        "      <td> </td>\n",
        "    </tr>\n",
        "    <tr>\n",
        "      <th>14</th>\n",
        "      <td> maxtemp</td>\n",
        "      <td>     int(11)</td>\n",
        "      <td> YES</td>\n",
        "      <td> MUL</td>\n",
        "      <td> NULL</td>\n",
        "      <td> </td>\n",
        "    </tr>\n",
        "    <tr>\n",
        "      <th>15</th>\n",
        "      <td> mintemp</td>\n",
        "      <td>     int(11)</td>\n",
        "      <td> YES</td>\n",
        "      <td> MUL</td>\n",
        "      <td> NULL</td>\n",
        "      <td> </td>\n",
        "    </tr>\n",
        "    <tr>\n",
        "      <th>16</th>\n",
        "      <td>    prcp</td>\n",
        "      <td>     int(11)</td>\n",
        "      <td> YES</td>\n",
        "      <td>    </td>\n",
        "      <td> NULL</td>\n",
        "      <td> </td>\n",
        "    </tr>\n",
        "    <tr>\n",
        "      <th>17</th>\n",
        "      <td>    sndp</td>\n",
        "      <td>     int(11)</td>\n",
        "      <td> YES</td>\n",
        "      <td>    </td>\n",
        "      <td> NULL</td>\n",
        "      <td> </td>\n",
        "    </tr>\n",
        "    <tr>\n",
        "      <th>18</th>\n",
        "      <td>  FRSHTT</td>\n",
        "      <td>  varchar(6)</td>\n",
        "      <td> YES</td>\n",
        "      <td>    </td>\n",
        "      <td> NULL</td>\n",
        "      <td> </td>\n",
        "    </tr>\n",
        "  </tbody>\n",
        "</table>\n",
        "</div>"
       ],
       "metadata": {},
       "output_type": "pyout",
       "prompt_number": 46,
       "text": [
        "      Field         Type Null  Key Default Extra\n",
        "0    STNYMD  varchar(14)   NO  PRI    NULL      \n",
        "1       STN   varchar(6)  YES  MUL    NULL      \n",
        "2      WBAN   varchar(6)  YES         NULL      \n",
        "3      year      int(11)  YES  MUL    NULL      \n",
        "4     month      int(11)  YES  MUL    NULL      \n",
        "5       day      int(11)  YES  MUL    NULL      \n",
        "6      temp      int(11)  YES  MUL    NULL      \n",
        "7      dewp      int(11)  YES         NULL      \n",
        "8       slp      int(11)  YES         NULL      \n",
        "9       stp      int(11)  YES         NULL      \n",
        "10    visib      int(11)  YES         NULL      \n",
        "11     wdsp      int(11)  YES         NULL      \n",
        "12    mxspd      int(11)  YES         NULL      \n",
        "13     gust      int(11)  YES         NULL      \n",
        "14  maxtemp      int(11)  YES  MUL    NULL      \n",
        "15  mintemp      int(11)  YES  MUL    NULL      \n",
        "16     prcp      int(11)  YES         NULL      \n",
        "17     sndp      int(11)  YES         NULL      \n",
        "18   FRSHTT   varchar(6)  YES         NULL      "
       ]
      }
     ],
     "prompt_number": 46
    },
    {
     "cell_type": "markdown",
     "metadata": {},
     "source": [
      "started index creation at 11:53 computer time, 7:53am my time. memory usage again"
     ]
    },
    {
     "cell_type": "code",
     "collapsed": false,
     "input": [
      "o,e = sshCommandWait('df -h')\n",
      "o"
     ],
     "language": "python",
     "metadata": {},
     "outputs": [
      {
       "metadata": {},
       "output_type": "pyout",
       "prompt_number": 47,
       "text": [
        "[u'Filesystem      Size  Used Avail Use% Mounted on\\n',\n",
        " u'/dev/xvda1      7.8G  1.4G  6.4G  18% /\\n',\n",
        " u'devtmpfs        7.5G   60K  7.5G   1% /dev\\n',\n",
        " u'tmpfs           7.5G     0  7.5G   0% /dev/shm\\n',\n",
        " u'/dev/xvdc        99G   34G   60G  37% /mnt/mysqlVolume\\n']"
       ]
      }
     ],
     "prompt_number": 47
    },
    {
     "cell_type": "heading",
     "level": 4,
     "metadata": {},
     "source": [
      "Make Database Remotely Accessible"
     ]
    },
    {
     "cell_type": "markdown",
     "metadata": {},
     "source": [
      "sudo vim /etc/my.cnf\n",
      "\n",
      "add line:\n",
      "bind-address=0.0.0.0"
     ]
    },
    {
     "cell_type": "code",
     "collapsed": false,
     "input": [
      "cmd = 'sudo sed -i \"s/mysql\\\\.sock/mysql\\\\.sock\\\\nbind-address\\\\=0\\\\.0\\\\.0\\\\.0/g\" /etc/my.cnf'\n",
      "o,e = sshCommandWait(cmd)"
     ],
     "language": "python",
     "metadata": {},
     "outputs": [],
     "prompt_number": 48
    },
    {
     "cell_type": "markdown",
     "metadata": {},
     "source": [
      "sudo /etc/init.d/mysqld restart"
     ]
    },
    {
     "cell_type": "code",
     "collapsed": false,
     "input": [
      "o,e = sshCommandWait('sudo /etc/init.d/mysqld restart')"
     ],
     "language": "python",
     "metadata": {},
     "outputs": [],
     "prompt_number": 49
    },
    {
     "cell_type": "markdown",
     "metadata": {},
     "source": [
      "reconnect to mysql to set up new user, provide it with remote access privilege "
     ]
    },
    {
     "cell_type": "code",
     "collapsed": false,
     "input": [
      "sqlcommand = 'GRANT ALL ON weather.* TO weatherdbuser@' + myIP + ' IDENTIFIED BY \\'' + mysqlPass + '\\';'\n",
      "o,e = sshCommandWait('mysql -e \"' + sqlcommand + '\" -u root --password=' + mysqlPass)"
     ],
     "language": "python",
     "metadata": {},
     "outputs": [],
     "prompt_number": 50
    },
    {
     "cell_type": "heading",
     "level": 4,
     "metadata": {},
     "source": [
      "Test MySQL Connection"
     ]
    },
    {
     "cell_type": "markdown",
     "metadata": {},
     "source": [
      "More of this in the next ipython notebook, for a quick test for now."
     ]
    },
    {
     "cell_type": "code",
     "collapsed": false,
     "input": [
      "import MySQLdb as mdb\n",
      "print 'opening connection'\n",
      "con = mdb.connect( host = instance.public_dns_name, \n",
      "                   passwd = mysqlPass, \n",
      "                   user = 'weatherdbuser', \n",
      "                   db='weather' );\n",
      "cur = con.cursor()\n",
      "cur.execute(\"SELECT * FROM observation LIMIT 10;\")\n",
      "for i in range(cur.rowcount):\n",
      "    row = cur.fetchone()\n",
      "    print row\n",
      "print 'closing connection'\n",
      "con.close()"
     ],
     "language": "python",
     "metadata": {},
     "outputs": [
      {
       "output_type": "stream",
       "stream": "stdout",
       "text": [
        "opening connection\n",
        "('00820920090309', '008209', '99999', 2009L, 3L, 9L, 782L, 710L, 99999L, 99999L, 9999L, 13L, 19L, 9999L, 806L, 716L, 0L, 9999L, '000000')"
       ]
      },
      {
       "output_type": "stream",
       "stream": "stdout",
       "text": [
        "\n",
        "('00820920090310', '008209', '99999', 2009L, 3L, 10L, 678L, 656L, 99999L, 99999L, 9999L, 12L, 41L, 9999L, 806L, 554L, 0L, 9999L, '000000')\n",
        "('00820920090311', '008209', '99999', 2009L, 3L, 11L, 681L, 646L, 99999L, 99999L, 9999L, 13L, 29L, 9999L, 824L, 554L, 0L, 9999L, '000000')\n",
        "('00820920090312', '008209', '99999', 2009L, 3L, 12L, 666L, 639L, 99999L, 99999L, 9999L, 12L, 41L, 9999L, 806L, 572L, 0L, 9999L, '000000')\n",
        "('00820920090313', '008209', '99999', 2009L, 3L, 13L, 669L, 622L, 99999L, 99999L, 9999L, 13L, 41L, 9999L, 806L, 554L, 0L, 9999L, '000000')\n",
        "('00820920090314', '008209', '99999', 2009L, 3L, 14L, 700L, 691L, 99999L, 99999L, 9999L, 11L, 60L, 9999L, 806L, 662L, 0L, 9999L, '000000')\n",
        "('00820920090315', '008209', '99999', 2009L, 3L, 15L, 715L, 715L, 99999L, 99999L, 9999L, 15L, 29L, 9999L, 806L, 698L, 0L, 9999L, '000000')\n",
        "('00820920090316', '008209', '99999', 2009L, 3L, 16L, 692L, 692L, 99999L, 99999L, 9999L, 15L, 80L, 9999L, 716L, 644L, 0L, 9999L, '000000')\n",
        "('00820920090317', '008209', '99999', 2009L, 3L, 17L, 667L, 604L, 99999L, 99999L, 9999L, 26L, 70L, 9999L, 824L, 590L, 0L, 9999L, '000000')\n",
        "('00820920090318', '008209', '99999', 2009L, 3L, 18L, 652L, 599L, 99999L, 99999L, 9999L, 18L, 60L, 9999L, 806L, 554L, 0L, 9999L, '000000')\n",
        "closing connection\n"
       ]
      }
     ],
     "prompt_number": 51
    },
    {
     "cell_type": "heading",
     "level": 4,
     "metadata": {},
     "source": [
      "Create AMI and Volume Snapshot"
     ]
    },
    {
     "cell_type": "markdown",
     "metadata": {},
     "source": [
      "maybe. and terminate?"
     ]
    },
    {
     "cell_type": "code",
     "collapsed": false,
     "input": [],
     "language": "python",
     "metadata": {},
     "outputs": [],
     "prompt_number": 51
    }
   ],
   "metadata": {}
  }
 ]
}